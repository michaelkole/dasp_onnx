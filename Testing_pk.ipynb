{
 "cells": [
  {
   "cell_type": "markdown",
   "id": "789c84ab",
   "metadata": {},
   "source": [
    "## imports etc"
   ]
  },
  {
   "cell_type": "code",
   "execution_count": 1,
   "id": "69a4277c",
   "metadata": {},
   "outputs": [
    {
     "name": "stderr",
     "output_type": "stream",
     "text": [
      "C:\\Users\\Paula\\anaconda3\\envs\\onnx_v2\\lib\\site-packages\\tqdm\\auto.py:22: TqdmWarning: IProgress not found. Please update jupyter and ipywidgets. See https://ipywidgets.readthedocs.io/en/stable/user_install.html\n",
      "  from .autonotebook import tqdm as notebook_tqdm\n"
     ]
    }
   ],
   "source": [
    "import time\n",
    "import torch\n",
    "import numpy as np\n",
    "\n",
    "from transformers import BertTokenizer, BertForQuestionAnswering\n",
    "from onnxruntime import InferenceSession"
   ]
  },
  {
   "cell_type": "code",
   "execution_count": 17,
   "id": "a130dc07",
   "metadata": {},
   "outputs": [],
   "source": [
    "def run_n_times(func, desc, n = 100): \n",
    "    st= time.time()\n",
    "    for i in range(n):\n",
    "        func()\n",
    "    et = time.time()\n",
    "    print('Execution time for', desc, ':', et - st, 'seconds')"
   ]
  },
  {
   "cell_type": "markdown",
   "id": "72e182c4",
   "metadata": {},
   "source": [
    "## Torch"
   ]
  },
  {
   "cell_type": "code",
   "execution_count": 3,
   "id": "da5fb43d",
   "metadata": {},
   "outputs": [],
   "source": [
    "tokenizer = BertTokenizer.from_pretrained(\"deepset/bert-base-cased-squad2\")\n",
    "model = BertForQuestionAnswering.from_pretrained(\"deepset/bert-base-cased-squad2\")\n",
    "\n",
    "question, text = \"Who was Jim Henson?\", \"Jim Henson was a nice puppet\"\n",
    "inputs = tokenizer(question, text, return_tensors=\"pt\")"
   ]
  },
  {
   "cell_type": "markdown",
   "id": "a8827e14",
   "metadata": {},
   "source": [
    "### run"
   ]
  },
  {
   "cell_type": "code",
   "execution_count": 4,
   "id": "12c0e388",
   "metadata": {},
   "outputs": [],
   "source": [
    "def run_torch():\n",
    "    global outputs_torch\n",
    "    with torch.no_grad():\n",
    "        outputs_torch = model(**inputs)\n",
    "run_torch()        "
   ]
  },
  {
   "cell_type": "markdown",
   "id": "255b13e0",
   "metadata": {},
   "source": [
    "### get answer"
   ]
  },
  {
   "cell_type": "code",
   "execution_count": 5,
   "id": "bd689d04",
   "metadata": {},
   "outputs": [
    {
     "data": {
      "text/plain": [
       "'a nice puppet'"
      ]
     },
     "execution_count": 5,
     "metadata": {},
     "output_type": "execute_result"
    }
   ],
   "source": [
    "answer_start_index = outputs_torch.start_logits.argmax()\n",
    "answer_end_index = outputs_torch.end_logits.argmax()\n",
    "\n",
    "predict_answer_tokens = inputs.input_ids[0, answer_start_index : answer_end_index + 1]\n",
    "tokenizer.decode(predict_answer_tokens)"
   ]
  },
  {
   "cell_type": "markdown",
   "id": "a1d66c2a",
   "metadata": {},
   "source": [
    "### save  to disk"
   ]
  },
  {
   "cell_type": "code",
   "execution_count": 6,
   "id": "25e8d7d8",
   "metadata": {},
   "outputs": [],
   "source": [
    "tokenizer.save_pretrained(\"local-pt-checkpoint-squad2\")\n",
    "model.save_pretrained(\"local-pt-checkpoint-squad2\")"
   ]
  },
  {
   "cell_type": "markdown",
   "id": "657f82e0",
   "metadata": {},
   "source": [
    "## ONNX"
   ]
  },
  {
   "cell_type": "code",
   "execution_count": 21,
   "id": "f7fa1086",
   "metadata": {},
   "outputs": [],
   "source": [
    "session = InferenceSession(\"onnx/model.onnx\")\n",
    "\n",
    "inputs = tokenizer(question, text, return_tensors=\"pt\") # \"np\" (?)\n",
    "onnx_inputs = {key: np.array(inputs[key], dtype=np.int64) for key in inputs}"
   ]
  },
  {
   "cell_type": "markdown",
   "id": "e616a8ae",
   "metadata": {},
   "source": [
    "### run"
   ]
  },
  {
   "cell_type": "code",
   "execution_count": 22,
   "id": "000a39ef",
   "metadata": {},
   "outputs": [],
   "source": [
    "def run_onnx():\n",
    "    global outputs_onnx\n",
    "    outputs_onnx = session.run(output_names=[\"start_logits\", \"end_logits\"], input_feed=dict(onnx_inputs))\n",
    "run_onnx()        "
   ]
  },
  {
   "cell_type": "markdown",
   "id": "f4528438",
   "metadata": {},
   "source": [
    "### get answer"
   ]
  },
  {
   "cell_type": "code",
   "execution_count": 9,
   "id": "47eeb24d",
   "metadata": {},
   "outputs": [
    {
     "data": {
      "text/plain": [
       "'a nice puppet'"
      ]
     },
     "execution_count": 9,
     "metadata": {},
     "output_type": "execute_result"
    }
   ],
   "source": [
    "answer_start_index = outputs_onnx[0].argmax(axis=1)\n",
    "answer_end_index = outputs_onnx[1].argmax(axis=1)\n",
    "\n",
    "predict_answer_tokens = inputs.input_ids[0, torch.tensor(answer_start_index) : torch.tensor(answer_end_index) + 1]\n",
    "tokenizer.decode(predict_answer_tokens)"
   ]
  },
  {
   "cell_type": "markdown",
   "id": "cec86f7b",
   "metadata": {},
   "source": [
    "## little test just4fun"
   ]
  },
  {
   "cell_type": "code",
   "execution_count": 18,
   "id": "ba7a4b86",
   "metadata": {},
   "outputs": [
    {
     "name": "stdout",
     "output_type": "stream",
     "text": [
      "Execution time for torch : 4.1156511306762695 seconds\n",
      "Execution time for onnx : 1.5255463123321533 seconds\n"
     ]
    }
   ],
   "source": [
    "run_n_times(run_torch, desc = \"torch\")        \n",
    "run_n_times(run_onnx, desc = \"onnx\")        "
   ]
  },
  {
   "cell_type": "code",
   "execution_count": null,
   "id": "b87bcc92",
   "metadata": {},
   "outputs": [],
   "source": []
  }
 ],
 "metadata": {
  "kernelspec": {
   "display_name": "Python 3 (ipykernel)",
   "language": "python",
   "name": "python3"
  },
  "language_info": {
   "codemirror_mode": {
    "name": "ipython",
    "version": 3
   },
   "file_extension": ".py",
   "mimetype": "text/x-python",
   "name": "python",
   "nbconvert_exporter": "python",
   "pygments_lexer": "ipython3",
   "version": "3.10.8"
  }
 },
 "nbformat": 4,
 "nbformat_minor": 5
}
