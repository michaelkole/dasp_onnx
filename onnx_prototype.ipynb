{
 "cells": [
  {
   "cell_type": "code",
   "execution_count": 6,
   "metadata": {},
   "outputs": [],
   "source": [
    "from transformers import QuestionAnsweringPipeline, AutoAdapterModel, AutoModelWithHeads, AutoTokenizer, AutoConfig\n",
    "from transformers.onnx import OnnxConfig, validate_model_outputs, export\n",
    "from transformers.models.bert import BertOnnxConfig\n",
    "\n",
    "import onnx\n",
    "from onnxruntime.quantization import quantize_dynamic, QuantType\n",
    "from onnxruntime import InferenceSession\n",
    "import onnxruntime\n",
    "\n",
    "from onnx_opcounter import calculate_params\n",
    "\n",
    "import os\n",
    "import time\n",
    "import torch\n",
    "import numpy as np\n",
    "\n",
    "from datasets import load_metric, load_dataset\n",
    "\n",
    "from typing import Mapping, OrderedDict\n",
    "from pathlib import Path\n",
    "import random\n",
    "import pandas as pd"
   ]
  },
  {
   "cell_type": "markdown",
   "metadata": {},
   "source": [
    "### Extractive QA (DROP BERT)"
   ]
  },
  {
   "cell_type": "code",
   "execution_count": 2,
   "metadata": {},
   "outputs": [
    {
     "name": "stderr",
     "output_type": "stream",
     "text": [
      "/Users/michaelhermann/Source/DASP/code/dasp_onnx/adapterhub_env/lib/python3.9/site-packages/transformers/adapters/models/bert/adapter_model.py:250: FutureWarning: This class has been renamed to `BertAdapterModel` in v3. Please use the new class instead as this class might be removed in a future version.\n",
      "  warnings.warn(\n",
      "/Users/michaelhermann/Source/DASP/code/dasp_onnx/adapterhub_env/lib/python3.9/site-packages/transformers/adapters/models/bert/adapter_model.py:228: FutureWarning: This class has been renamed to `BertAdapterModel` in v3. Please use the new class instead as this class might be removed in a future version.\n",
      "  warnings.warn(\n",
      "Some weights of the model checkpoint at bert-base-uncased were not used when initializing BertModelWithHeads: ['cls.seq_relationship.weight', 'cls.predictions.bias', 'cls.seq_relationship.bias', 'cls.predictions.decoder.weight', 'cls.predictions.transform.dense.weight', 'cls.predictions.transform.LayerNorm.weight', 'cls.predictions.transform.dense.bias', 'cls.predictions.transform.LayerNorm.bias']\n",
      "- This IS expected if you are initializing BertModelWithHeads from the checkpoint of a model trained on another task or with another architecture (e.g. initializing a BertForSequenceClassification model from a BertForPreTraining model).\n",
      "- This IS NOT expected if you are initializing BertModelWithHeads from the checkpoint of a model that you expect to be exactly identical (initializing a BertForSequenceClassification model from a BertForSequenceClassification model).\n",
      "Fetching 6 files: 100%|██████████| 6/6 [00:00<00:00, 2272.92it/s]"
     ]
    },
    {
     "name": "stdout",
     "output_type": "stream",
     "text": [
      "physician\n"
     ]
    },
    {
     "name": "stderr",
     "output_type": "stream",
     "text": [
      "\n"
     ]
    }
   ],
   "source": [
    "# Basic extractive QA Example\n",
    "question = \"What is Mary's job?\"\n",
    "context = \"Thomas likes animals. Mary likes strawberry ice and is a physician\"\n",
    "\n",
    "tokenizer = AutoTokenizer.from_pretrained(\"bert-base-uncased\")\n",
    "model = AutoModelWithHeads.from_pretrained(\"bert-base-uncased\")\n",
    "adapter_name = model.load_adapter(\"AdapterHub/bert-base-uncased-pf-drop\", source=\"hf\")\n",
    "model.active_adapters = adapter_name\n",
    "\n",
    "def base_model_inference(question, context):\n",
    "    inputs = tokenizer(question, context, padding=True, truncation=True, return_tensors=\"pt\")\n",
    "    \n",
    "    model.eval()\n",
    "    with torch.no_grad():\n",
    "        outputs = model(**inputs)\n",
    "\n",
    "    start_idx = torch.argmax(outputs.start_logits, axis=1).numpy()[0]\n",
    "    end_idx = (torch.argmax(outputs.end_logits, axis=1) + 1).numpy()[0]\n",
    "    return tokenizer.decode(inputs['input_ids'][0, start_idx:end_idx])\n",
    "\n",
    "answer = base_model_inference(question, context)\n",
    "print(answer)"
   ]
  },
  {
   "cell_type": "code",
   "execution_count": 118,
   "metadata": {},
   "outputs": [
    {
     "name": "stderr",
     "output_type": "stream",
     "text": [
      "/Users/michaelhermann/Source/DASP/code/dasp_onnx/adapterhub_env/lib/python3.9/site-packages/transformers/adapters/layer.py:49: TracerWarning: Converting a tensor to a Python boolean might cause the trace to be incorrect. We can't record the data flow of Python values, so this value will be treated as a constant in the future. This means that the trace might not generalize to other inputs!\n",
      "  if context.output_adapter_gating_scores:\n",
      "/Users/michaelhermann/Source/DASP/code/dasp_onnx/adapterhub_env/lib/python3.9/site-packages/transformers/adapters/composition.py:202: TracerWarning: Converting a tensor to a Python boolean might cause the trace to be incorrect. We can't record the data flow of Python values, so this value will be treated as a constant in the future. This means that the trace might not generalize to other inputs!\n",
      "  if tensor is not None and hidden_states.shape[0] != tensor.shape[0]:\n",
      "/Users/michaelhermann/Source/DASP/code/dasp_onnx/adapterhub_env/lib/python3.9/site-packages/transformers/adapters/context.py:117: TracerWarning: Converting a tensor to a Python boolean might cause the trace to be incorrect. We can't record the data flow of Python values, so this value will be treated as a constant in the future. This means that the trace might not generalize to other inputs!\n",
      "  if getattr(ctx, \"output_\" + attr, False):\n"
     ]
    }
   ],
   "source": [
    "# Export to ONNX with custom config\n",
    "class DropBertOnnxConfig(OnnxConfig):\n",
    "    @property\n",
    "    def inputs(self) -> Mapping[str, Mapping[int, str]]:\n",
    "        if self.task == \"multiple-choice\":\n",
    "            dynamic_axis = {0: \"batch\", 1: \"choice\", 2: \"sequence\"}\n",
    "        else:\n",
    "            dynamic_axis = {0: \"batch\", 1: \"sequence\"}\n",
    "        return OrderedDict(\n",
    "            [\n",
    "                (\"input_ids\", dynamic_axis),\n",
    "                (\"attention_mask\", dynamic_axis),\n",
    "                (\"token_type_ids\", dynamic_axis),\n",
    "            ]\n",
    "        )\n",
    "\n",
    "config = AutoConfig.from_pretrained(\"bert-base-uncased\")\n",
    "onnx_config = DropBertOnnxConfig(config, task=\"question-answering\")\n",
    "\n",
    "onnx_path = Path(\"onnx/dropbert/model.onnx\")\n",
    "\n",
    "onnx_inputs, onnx_outputs = export(tokenizer, model, onnx_config, onnx_config.default_onnx_opset, onnx_path)\n",
    "\n",
    "onnx_model = onnx.load(onnx_path)\n",
    "onnx.checker.check_model(onnx_model)"
   ]
  },
  {
   "cell_type": "code",
   "execution_count": 119,
   "metadata": {},
   "outputs": [
    {
     "name": "stdout",
     "output_type": "stream",
     "text": [
      "next to darmstadt\n"
     ]
    }
   ],
   "source": [
    "# ONNX model inference\n",
    "def onnx_inference(onnx_path, question, context):\n",
    "    onnx_model = onnxruntime.InferenceSession(\n",
    "        str(onnx_path), providers=[\"CPUExecutionProvider\"]\n",
    "    )\n",
    "\n",
    "    inputs = tokenizer(question, context, padding=True, truncation=True, return_tensors=\"np\")\n",
    "    inputs = {key: np.array(inputs[key], dtype=np.int64) for key in inputs}\n",
    "    outputs = onnx_model.run(input_feed=dict(inputs), output_names=None)\n",
    "\n",
    "    start_scores = outputs[0]\n",
    "    end_scores = outputs[1]\n",
    "    ans_start = np.argmax(start_scores)\n",
    "    ans_end = np.argmax(end_scores)+1\n",
    "    return tokenizer.decode(inputs['input_ids'][0, ans_start:ans_end])\n",
    "\n",
    "question = 'Where do I live?'\n",
    "context = 'My name is Paul and I live next to Darmstadt'\n",
    "\n",
    "answer = onnx_inference(onnx_path, question, context)\n",
    "print(answer)"
   ]
  },
  {
   "cell_type": "markdown",
   "metadata": {},
   "source": [
    "### Model Quantization"
   ]
  },
  {
   "cell_type": "code",
   "execution_count": 120,
   "metadata": {},
   "outputs": [
    {
     "name": "stdout",
     "output_type": "stream",
     "text": [
      "Size (MB): 421.1566400527954\n",
      "Size (MB): 396.7126741409302\n"
     ]
    }
   ],
   "source": [
    "# Quantize base model\n",
    "quantized_model = torch.quantization.quantize_dynamic(\n",
    "    model, {torch.nn.Linear}, dtype=torch.qint8\n",
    ")\n",
    "\n",
    "def print_size_of_model(model):\n",
    "    torch.save(model.state_dict(), \"temp.p\")\n",
    "    print('Size (MB):', os.path.getsize(\"temp.p\")/(1024*1024))\n",
    "    os.remove('temp.p')\n",
    "\n",
    "print_size_of_model(model)\n",
    "print_size_of_model(quantized_model)"
   ]
  },
  {
   "cell_type": "code",
   "execution_count": 121,
   "metadata": {},
   "outputs": [
    {
     "name": "stdout",
     "output_type": "stream",
     "text": [
      "Ignore MatMul due to non constant B: /[/bert/encoder/layer.0/attention/self/MatMul]\n",
      "Ignore MatMul due to non constant B: /[/bert/encoder/layer.0/attention/self/MatMul_1]\n",
      "Ignore MatMul due to non constant B: /[/bert/encoder/layer.1/attention/self/MatMul]\n",
      "Ignore MatMul due to non constant B: /[/bert/encoder/layer.1/attention/self/MatMul_1]\n",
      "Ignore MatMul due to non constant B: /[/bert/encoder/layer.2/attention/self/MatMul]\n",
      "Ignore MatMul due to non constant B: /[/bert/encoder/layer.2/attention/self/MatMul_1]\n",
      "Ignore MatMul due to non constant B: /[/bert/encoder/layer.3/attention/self/MatMul]\n",
      "Ignore MatMul due to non constant B: /[/bert/encoder/layer.3/attention/self/MatMul_1]\n",
      "Ignore MatMul due to non constant B: /[/bert/encoder/layer.4/attention/self/MatMul]\n",
      "Ignore MatMul due to non constant B: /[/bert/encoder/layer.4/attention/self/MatMul_1]\n",
      "Ignore MatMul due to non constant B: /[/bert/encoder/layer.5/attention/self/MatMul]\n",
      "Ignore MatMul due to non constant B: /[/bert/encoder/layer.5/attention/self/MatMul_1]\n",
      "Ignore MatMul due to non constant B: /[/bert/encoder/layer.6/attention/self/MatMul]\n",
      "Ignore MatMul due to non constant B: /[/bert/encoder/layer.6/attention/self/MatMul_1]\n",
      "Ignore MatMul due to non constant B: /[/bert/encoder/layer.7/attention/self/MatMul]\n",
      "Ignore MatMul due to non constant B: /[/bert/encoder/layer.7/attention/self/MatMul_1]\n",
      "Ignore MatMul due to non constant B: /[/bert/encoder/layer.8/attention/self/MatMul]\n",
      "Ignore MatMul due to non constant B: /[/bert/encoder/layer.8/attention/self/MatMul_1]\n",
      "Ignore MatMul due to non constant B: /[/bert/encoder/layer.9/attention/self/MatMul]\n",
      "Ignore MatMul due to non constant B: /[/bert/encoder/layer.9/attention/self/MatMul_1]\n",
      "Ignore MatMul due to non constant B: /[/bert/encoder/layer.10/attention/self/MatMul]\n",
      "Ignore MatMul due to non constant B: /[/bert/encoder/layer.10/attention/self/MatMul_1]\n",
      "Ignore MatMul due to non constant B: /[/bert/encoder/layer.11/attention/self/MatMul]\n",
      "Ignore MatMul due to non constant B: /[/bert/encoder/layer.11/attention/self/MatMul_1]\n",
      "Quantized model saved to:onnx/dropbert/model_quant.onnx\n",
      "ONNX full precision model size (MB): 419.11339473724365\n",
      "ONNX quantized model size (MB): 105.46476078033447\n"
     ]
    }
   ],
   "source": [
    "def quantize_onnx_model(onnx_model_path, quantized_model_path):\n",
    "    quantize_dynamic(onnx_model_path,\n",
    "                     quantized_model_path,\n",
    "                     weight_type=QuantType.QInt8)\n",
    "\n",
    "    print(f\"Quantized model saved to:{quantized_model_path}\")\n",
    "\n",
    "quantize_onnx_model('onnx/dropbert/model.onnx', 'onnx/dropbert/model_quant.onnx')\n",
    "\n",
    "print('ONNX full precision model size (MB):', os.path.getsize(\"onnx/dropbert/model.onnx\")/(1024*1024))\n",
    "print('ONNX quantized model size (MB):', os.path.getsize(\"onnx/dropbert/model_quant.onnx\")/(1024*1024))"
   ]
  },
  {
   "cell_type": "code",
   "execution_count": 122,
   "metadata": {},
   "outputs": [
    {
     "name": "stdout",
     "output_type": "stream",
     "text": [
      "Number of base model params: 110378306\n",
      "ONNX number of full precision model params: 109788226\n",
      "ONNX number of quantized model params: 109788758.0\n"
     ]
    }
   ],
   "source": [
    "print('Number of base model params:', model.num_parameters())\n",
    "\n",
    "def count_params_onnx(model_path):\n",
    "    onnx_model = onnx.load(model_path)\n",
    "    params = calculate_params(onnx_model)\n",
    "    return params\n",
    "\n",
    "print(\"ONNX number of full precision model params:\", count_params_onnx(\"onnx/dropbert/model.onnx\"))\n",
    "print(\"ONNX number of quantized model params:\", count_params_onnx(\"onnx/dropbert/model_quant.onnx\"))"
   ]
  },
  {
   "cell_type": "markdown",
   "metadata": {},
   "source": [
    "### Measure Performance on Dataset"
   ]
  },
  {
   "cell_type": "code",
   "execution_count": 7,
   "metadata": {},
   "outputs": [],
   "source": [
    "def run_n_times(func, model, inputs, n = 50): \n",
    "    st= time.time()\n",
    "    for _ in range(n):\n",
    "        func(model, inputs)\n",
    "    et = time.time()\n",
    "\n",
    "    avg_inference_time = 1000 * (et - st) / n\n",
    "    # message = \"Average inference time for %s (n=%d): %.2fms \" % (desc, n, avg_inference_time)\n",
    "    \n",
    "    return avg_inference_time\n",
    "\n",
    "def run_torch(model, inputs):\n",
    "    try:\n",
    "        with torch.no_grad():\n",
    "            model(**inputs)\n",
    "    except:\n",
    "        pass\n",
    "\n",
    "def run_onnx(qa_model, onnx_inputs):\n",
    "    try:\n",
    "        qa_model.run(output_names=[\"start_logits\", \"end_logits\"], input_feed=dict(onnx_inputs))   \n",
    "    except:\n",
    "        pass"
   ]
  },
  {
   "cell_type": "code",
   "execution_count": 8,
   "metadata": {},
   "outputs": [
    {
     "name": "stderr",
     "output_type": "stream",
     "text": [
      "Found cached dataset squad (/Users/michaelhermann/.cache/huggingface/datasets/squad/plain_text/1.0.0/d6ec3ceb99ca480ce37cdd35555d6cb2511d223b9150cce08a837ef62ffea453)\n"
     ]
    }
   ],
   "source": [
    "data = load_dataset(\"squad\", split='validation')"
   ]
  },
  {
   "cell_type": "code",
   "execution_count": 9,
   "metadata": {},
   "outputs": [],
   "source": [
    "onnx_model = onnxruntime.InferenceSession(\"onnx/dropbert/model.onnx\", providers=[\"CPUExecutionProvider\"])\n",
    "\n",
    "so = onnxruntime.SessionOptions()\n",
    "so.graph_optimization_level = onnxruntime.GraphOptimizationLevel.ORT_ENABLE_ALL\n",
    "opt_session_onnx = onnxruntime.InferenceSession(\"onnx/dropbert/model.onnx\", so)\n",
    "\n",
    "onnx_model_quant = onnxruntime.InferenceSession(\"onnx/dropbert/model_quant.onnx\", providers=[\"CPUExecutionProvider\"])\n",
    "\n",
    "so_quant = onnxruntime.SessionOptions()\n",
    "so_quant.graph_optimization_level = onnxruntime.GraphOptimizationLevel.ORT_ENABLE_ALL\n",
    "opt_session_onnx_quant = onnxruntime.InferenceSession(\"onnx/dropbert/model_quant.onnx\", so_quant)\n"
   ]
  },
  {
   "cell_type": "code",
   "execution_count": 10,
   "metadata": {},
   "outputs": [],
   "source": [
    "def save_df(df_new):\n",
    "    path_to_logger_file = \"logger.csv\"\n",
    "    if os.path.exists(path_to_logger_file):\n",
    "        df_fin = pd.concat([pd.read_csv(path_to_logger_file), df_new])\n",
    "        df_fin.to_csv(path_to_logger_file,index=False)\n",
    "    else: \n",
    "        df_new.to_csv(path_to_logger_file,index=False)"
   ]
  },
  {
   "cell_type": "code",
   "execution_count": 19,
   "metadata": {},
   "outputs": [],
   "source": [
    "import matplotlib.pyplot as plt\n",
    "\n",
    "def performance_all(perf_type, name, model):\n",
    "    print(f\"Starting: {name}\")\n",
    "    X = []\n",
    "    time_measurements = []\n",
    "    df = pd.DataFrame(columns=[\"model_name\", \"time once (ms)\", \"average_time 50 times (ms)\", \"seq_length\", \"context\", \"question\", \"data_id\"])\n",
    "    \n",
    "\n",
    "    for i in range(0, len(data[\"context\"]), 25):\n",
    "        \n",
    "        context = data[\"context\"][i]\n",
    "        question = data[\"question\"][i]\n",
    "\n",
    "        # check if seq too long\n",
    "        if len(context.split()) > 490: continue\n",
    "\n",
    "    # for i in range(6):\n",
    "    #     context = (100*i+1)*\"World \"\n",
    "    #     question = \"Hello\"\n",
    "    \n",
    "\n",
    "        if perf_type == \"base\":\n",
    "            inputs = tokenizer(question, context, return_tensors=\"pt\")\n",
    "            time_once = run_n_times(run_torch, model, inputs, 1)\n",
    "            # average_time = run_n_times(run_torch, model, inputs, 50)\n",
    "            \n",
    "        elif perf_type == \"seq_length\":\n",
    "            inputs = tokenizer(question, context, return_tensors=\"np\")\n",
    "            inputs = {key: np.array(inputs[key], dtype=np.int64) for key in inputs}\n",
    "            time_once = run_n_times(run_onnx, model, inputs, 1) # just run once\n",
    "            # average_time = run_n_times(run_onnx, model, inputs, 50) # just run once\n",
    "            \n",
    "        seq_length = len(context.split()) # TODO -> reduce stopwords? Real Tokenization?\n",
    "        # print(\"Input Length {}: {:.3f} ms\".format(seq_length, average_time))\n",
    "        X.append(seq_length)\n",
    "        # time_measurements.append(average_time)\n",
    "        average_time = \"\"\n",
    "        time_measurements.append(time_once)\n",
    "\n",
    "        df.loc[len(df)] = [name, time_once, average_time, seq_length, context, question, data[\"id\"][i]]\n",
    "       \n",
    "    save_df(df)\n",
    "    \n",
    "    plt.scatter(X, time_measurements, label=name)\n",
    "    print(f\"Done: {name}\")\n",
    "    \n"
   ]
  },
  {
   "cell_type": "code",
   "execution_count": null,
   "metadata": {},
   "outputs": [],
   "source": []
  },
  {
   "cell_type": "code",
   "execution_count": 20,
   "metadata": {},
   "outputs": [
    {
     "name": "stdout",
     "output_type": "stream",
     "text": [
      "Starting: DROP BERT Base\n"
     ]
    },
    {
     "name": "stderr",
     "output_type": "stream",
     "text": [
      "Token indices sequence length is longer than the specified maximum sequence length for this model (518 > 512). Running this sequence through the model will result in indexing errors\n"
     ]
    },
    {
     "name": "stdout",
     "output_type": "stream",
     "text": [
      "Done: DROP BERT Base\n",
      "Starting: DROP BERT ONNX\n"
     ]
    },
    {
     "name": "stderr",
     "output_type": "stream",
     "text": [
      "2022-11-30 01:01:42.398302 [E:onnxruntime:, sequential_executor.cc:369 Execute] Non-zero status code returned while running Add node. Name:'/bert/embeddings/Add_1' Status Message: /Users/runner/work/1/s/onnxruntime/core/providers/cpu/math/element_wise_ops.h:523 void onnxruntime::BroadcastIterator::Append(ptrdiff_t, ptrdiff_t) axis == 1 || axis == largest was false. Attempting to broadcast an axis by a dimension other than 1. 512 by 518\n",
      "\n"
     ]
    },
    {
     "name": "stdout",
     "output_type": "stream",
     "text": [
      "Done: DROP BERT ONNX\n",
      "Starting: DROP BERT ONNX - OPT\n"
     ]
    },
    {
     "name": "stderr",
     "output_type": "stream",
     "text": [
      "2022-11-30 01:02:47.034101 [E:onnxruntime:, sequential_executor.cc:369 Execute] Non-zero status code returned while running Add node. Name:'/bert/embeddings/Add_1' Status Message: /Users/runner/work/1/s/onnxruntime/core/providers/cpu/math/element_wise_ops.h:523 void onnxruntime::BroadcastIterator::Append(ptrdiff_t, ptrdiff_t) axis == 1 || axis == largest was false. Attempting to broadcast an axis by a dimension other than 1. 512 by 518\n",
      "\n"
     ]
    },
    {
     "name": "stdout",
     "output_type": "stream",
     "text": [
      "Done: DROP BERT ONNX - OPT\n",
      "Starting: DROP BERT ONNX Quantized\n"
     ]
    },
    {
     "name": "stderr",
     "output_type": "stream",
     "text": [
      "2022-11-30 01:03:44.857589 [E:onnxruntime:, sequential_executor.cc:369 Execute] Non-zero status code returned while running Add node. Name:'/bert/embeddings/Add_1' Status Message: /Users/runner/work/1/s/onnxruntime/core/providers/cpu/math/element_wise_ops.h:523 void onnxruntime::BroadcastIterator::Append(ptrdiff_t, ptrdiff_t) axis == 1 || axis == largest was false. Attempting to broadcast an axis by a dimension other than 1. 512 by 518\n",
      "\n"
     ]
    },
    {
     "name": "stdout",
     "output_type": "stream",
     "text": [
      "Done: DROP BERT ONNX Quantized\n",
      "Starting: DROP BERT ONNX Quantized - OPT\n"
     ]
    },
    {
     "name": "stderr",
     "output_type": "stream",
     "text": [
      "2022-11-30 01:04:36.511707 [E:onnxruntime:, sequential_executor.cc:369 Execute] Non-zero status code returned while running Add node. Name:'/bert/embeddings/Add_1' Status Message: /Users/runner/work/1/s/onnxruntime/core/providers/cpu/math/element_wise_ops.h:523 void onnxruntime::BroadcastIterator::Append(ptrdiff_t, ptrdiff_t) axis == 1 || axis == largest was false. Attempting to broadcast an axis by a dimension other than 1. 512 by 518\n",
      "\n"
     ]
    },
    {
     "name": "stdout",
     "output_type": "stream",
     "text": [
      "Done: DROP BERT ONNX Quantized - OPT\n"
     ]
    },
    {
     "data": {
      "image/png": "[encoded data removed]",
      "text/plain": [
       "<Figure size 640x480 with 1 Axes>"
      ]
     },
     "metadata": {},
     "output_type": "display_data"
    }
   ],
   "source": [
    "performance_all(\"base\", \"DROP BERT Base\", model)\n",
    "\n",
    "performance_all(\"seq_length\", \"DROP BERT ONNX\", onnx_model)\n",
    "performance_all(\"seq_length\", \"DROP BERT ONNX - OPT\", opt_session_onnx)\n",
    "\n",
    "performance_all(\"seq_length\", \"DROP BERT ONNX Quantized\", onnx_model_quant)\n",
    "performance_all(\"seq_length\", \"DROP BERT ONNX Quantized - OPT\", opt_session_onnx_quant)\n",
    "\n",
    "plt.xlabel(\"Sequence Length (tokens)\")\n",
    "plt.ylabel(\"Average Inference Time (ms)\")\n",
    "plt.legend()\n",
    "plt.show()"
   ]
  },
  {
   "cell_type": "code",
   "execution_count": 21,
   "metadata": {},
   "outputs": [],
   "source": [
    "df_log = pd.read_csv(\"logger.csv\")"
   ]
  },
  {
   "cell_type": "code",
   "execution_count": 22,
   "metadata": {},
   "outputs": [
    {
     "data": {
      "text/html": [
       "<div>\n",
       "<style scoped>\n",
       "    .dataframe tbody tr th:only-of-type {\n",
       "        vertical-align: middle;\n",
       "    }\n",
       "\n",
       "    .dataframe tbody tr th {\n",
       "        vertical-align: top;\n",
       "    }\n",
       "\n",
       "    .dataframe thead th {\n",
       "        text-align: right;\n",
       "    }\n",
       "</style>\n",
       "<table border=\"1\" class=\"dataframe\">\n",
       "  <thead>\n",
       "    <tr style=\"text-align: right;\">\n",
       "      <th></th>\n",
       "      <th>model_name</th>\n",
       "      <th>time once (ms)</th>\n",
       "      <th>average_time 50 times (ms)</th>\n",
       "      <th>seq_length</th>\n",
       "      <th>context</th>\n",
       "      <th>question</th>\n",
       "      <th>data_id</th>\n",
       "    </tr>\n",
       "  </thead>\n",
       "  <tbody>\n",
       "    <tr>\n",
       "      <th>0</th>\n",
       "      <td>DROP BERT Base</td>\n",
       "      <td>104.720116</td>\n",
       "      <td>109.602637</td>\n",
       "      <td>124</td>\n",
       "      <td>Super Bowl 50 was an American football game to...</td>\n",
       "      <td>Which NFL team represented the AFC at Super Bo...</td>\n",
       "      <td>56be4db0acb8001400a502ec</td>\n",
       "    </tr>\n",
       "    <tr>\n",
       "      <th>1</th>\n",
       "      <td>DROP BERT Base</td>\n",
       "      <td>124.260187</td>\n",
       "      <td>136.236968</td>\n",
       "      <td>140</td>\n",
       "      <td>Other green spaces in the city include the Bot...</td>\n",
       "      <td>Where is a palm house with subtropic plants fr...</td>\n",
       "      <td>573368044776f41900660a2a</td>\n",
       "    </tr>\n",
       "    <tr>\n",
       "      <th>2</th>\n",
       "      <td>DROP BERT Base</td>\n",
       "      <td>74.470997</td>\n",
       "      <td>92.508602</td>\n",
       "      <td>103</td>\n",
       "      <td>Teachers that exhibit enthusiasm can lead to s...</td>\n",
       "      <td>What is dramatic gesturing an example of?</td>\n",
       "      <td>56e762fe00c9c71400d77074</td>\n",
       "    </tr>\n",
       "    <tr>\n",
       "      <th>3</th>\n",
       "      <td>DROP BERT Base</td>\n",
       "      <td>78.685045</td>\n",
       "      <td>89.804478</td>\n",
       "      <td>90</td>\n",
       "      <td>As of August 2010, Victoria had 1,548 public s...</td>\n",
       "      <td>How many full time teachers does Victoria have?</td>\n",
       "      <td>570d44abb3d812140066d600</td>\n",
       "    </tr>\n",
       "    <tr>\n",
       "      <th>4</th>\n",
       "      <td>DROP BERT Base</td>\n",
       "      <td>101.905823</td>\n",
       "      <td>110.881958</td>\n",
       "      <td>96</td>\n",
       "      <td>Apollo 5 (AS-204) was the first unmanned test ...</td>\n",
       "      <td>What was the nickname for the test where, duri...</td>\n",
       "      <td>5725e152271a42140099d2d1</td>\n",
       "    </tr>\n",
       "    <tr>\n",
       "      <th>...</th>\n",
       "      <td>...</td>\n",
       "      <td>...</td>\n",
       "      <td>...</td>\n",
       "      <td>...</td>\n",
       "      <td>...</td>\n",
       "      <td>...</td>\n",
       "      <td>...</td>\n",
       "    </tr>\n",
       "    <tr>\n",
       "      <th>2216</th>\n",
       "      <td>DROP BERT ONNX Quantized - OPT</td>\n",
       "      <td>55.973768</td>\n",
       "      <td>NaN</td>\n",
       "      <td>90</td>\n",
       "      <td>The notion \"force\" keeps its meaning in quantu...</td>\n",
       "      <td>What type of measurements result under Schrodi...</td>\n",
       "      <td>57377aac1c4567190057447c</td>\n",
       "    </tr>\n",
       "    <tr>\n",
       "      <th>2217</th>\n",
       "      <td>DROP BERT ONNX Quantized - OPT</td>\n",
       "      <td>65.988779</td>\n",
       "      <td>NaN</td>\n",
       "      <td>153</td>\n",
       "      <td>What we now call gravity was not identified as...</td>\n",
       "      <td>What is an object's mass proportional to at th...</td>\n",
       "      <td>573784fa1c45671900574487</td>\n",
       "    </tr>\n",
       "    <tr>\n",
       "      <th>2218</th>\n",
       "      <td>DROP BERT ONNX Quantized - OPT</td>\n",
       "      <td>56.102753</td>\n",
       "      <td>NaN</td>\n",
       "      <td>121</td>\n",
       "      <td>The origin of electric and magnetic fields wou...</td>\n",
       "      <td>How many vector equations did Heaviside and Gi...</td>\n",
       "      <td>57378e311c456719005744b2</td>\n",
       "    </tr>\n",
       "    <tr>\n",
       "      <th>2219</th>\n",
       "      <td>DROP BERT ONNX Quantized - OPT</td>\n",
       "      <td>44.425011</td>\n",
       "      <td>NaN</td>\n",
       "      <td>98</td>\n",
       "      <td>The normal force is due to repulsive forces of...</td>\n",
       "      <td>What is the repulsive force of close range ato...</td>\n",
       "      <td>57379a4b1c456719005744cd</td>\n",
       "    </tr>\n",
       "    <tr>\n",
       "      <th>2220</th>\n",
       "      <td>DROP BERT ONNX Quantized - OPT</td>\n",
       "      <td>72.832108</td>\n",
       "      <td>NaN</td>\n",
       "      <td>151</td>\n",
       "      <td>where  is the mass of the object,  is the velo...</td>\n",
       "      <td>What is resposible for speeding up or slowing ...</td>\n",
       "      <td>5737a5931c456719005744eb</td>\n",
       "    </tr>\n",
       "  </tbody>\n",
       "</table>\n",
       "<p>2221 rows × 7 columns</p>\n",
       "</div>"
      ],
      "text/plain": [
       "                          model_name  time once (ms)  \\\n",
       "0                     DROP BERT Base      104.720116   \n",
       "1                     DROP BERT Base      124.260187   \n",
       "2                     DROP BERT Base       74.470997   \n",
       "3                     DROP BERT Base       78.685045   \n",
       "4                     DROP BERT Base      101.905823   \n",
       "...                              ...             ...   \n",
       "2216  DROP BERT ONNX Quantized - OPT       55.973768   \n",
       "2217  DROP BERT ONNX Quantized - OPT       65.988779   \n",
       "2218  DROP BERT ONNX Quantized - OPT       56.102753   \n",
       "2219  DROP BERT ONNX Quantized - OPT       44.425011   \n",
       "2220  DROP BERT ONNX Quantized - OPT       72.832108   \n",
       "\n",
       "      average_time 50 times (ms)  seq_length  \\\n",
       "0                     109.602637         124   \n",
       "1                     136.236968         140   \n",
       "2                      92.508602         103   \n",
       "3                      89.804478          90   \n",
       "4                     110.881958          96   \n",
       "...                          ...         ...   \n",
       "2216                         NaN          90   \n",
       "2217                         NaN         153   \n",
       "2218                         NaN         121   \n",
       "2219                         NaN          98   \n",
       "2220                         NaN         151   \n",
       "\n",
       "                                                context  \\\n",
       "0     Super Bowl 50 was an American football game to...   \n",
       "1     Other green spaces in the city include the Bot...   \n",
       "2     Teachers that exhibit enthusiasm can lead to s...   \n",
       "3     As of August 2010, Victoria had 1,548 public s...   \n",
       "4     Apollo 5 (AS-204) was the first unmanned test ...   \n",
       "...                                                 ...   \n",
       "2216  The notion \"force\" keeps its meaning in quantu...   \n",
       "2217  What we now call gravity was not identified as...   \n",
       "2218  The origin of electric and magnetic fields wou...   \n",
       "2219  The normal force is due to repulsive forces of...   \n",
       "2220  where  is the mass of the object,  is the velo...   \n",
       "\n",
       "                                               question  \\\n",
       "0     Which NFL team represented the AFC at Super Bo...   \n",
       "1     Where is a palm house with subtropic plants fr...   \n",
       "2             What is dramatic gesturing an example of?   \n",
       "3       How many full time teachers does Victoria have?   \n",
       "4     What was the nickname for the test where, duri...   \n",
       "...                                                 ...   \n",
       "2216  What type of measurements result under Schrodi...   \n",
       "2217  What is an object's mass proportional to at th...   \n",
       "2218  How many vector equations did Heaviside and Gi...   \n",
       "2219  What is the repulsive force of close range ato...   \n",
       "2220  What is resposible for speeding up or slowing ...   \n",
       "\n",
       "                       data_id  \n",
       "0     56be4db0acb8001400a502ec  \n",
       "1     573368044776f41900660a2a  \n",
       "2     56e762fe00c9c71400d77074  \n",
       "3     570d44abb3d812140066d600  \n",
       "4     5725e152271a42140099d2d1  \n",
       "...                        ...  \n",
       "2216  57377aac1c4567190057447c  \n",
       "2217  573784fa1c45671900574487  \n",
       "2218  57378e311c456719005744b2  \n",
       "2219  57379a4b1c456719005744cd  \n",
       "2220  5737a5931c456719005744eb  \n",
       "\n",
       "[2221 rows x 7 columns]"
      ]
     },
     "execution_count": 22,
     "metadata": {},
     "output_type": "execute_result"
    }
   ],
   "source": [
    "df_log"
   ]
  },
  {
   "cell_type": "code",
   "execution_count": 9,
   "metadata": {},
   "outputs": [],
   "source": [
    "# import matplotlib.pyplot as plt\n",
    "\n",
    "# def performance_seq_length(name, model):\n",
    "#     X = []\n",
    "#     time_measurements = []\n",
    "\n",
    "#     for i in range(6):\n",
    "#         context = (100*i+1)*\"World \"\n",
    "#         question = \"Hello\"\n",
    "\n",
    "#         inputs = tokenizer(question, context, return_tensors=\"np\")\n",
    "#         inputs = {key: np.array(inputs[key], dtype=np.int64) for key in inputs}\n",
    "#         average_time = run_n_times(run_onnx, model, inputs)\n",
    "\n",
    "#         seq_length = 100*i+5\n",
    "#         print(\"Input Length {}: {:.3f} ms\".format(seq_length, average_time))\n",
    "#         X.append(seq_length)\n",
    "#         time_measurements.append(average_time)\n",
    "\n",
    "#     plt.scatter(X, time_measurements, label=name)\n",
    "\n",
    "# def base_performance(name, model):\n",
    "#     X = []\n",
    "#     time_measurements = []\n",
    "\n",
    "#     for i in range(6):\n",
    "#         context = (100*i+1)*\"World \"\n",
    "#         question = \"Hello\"\n",
    "\n",
    "#         inputs = tokenizer(question, context, return_tensors=\"pt\")\n",
    "#         average_time = run_n_times(run_torch, model, inputs)\n",
    "        \n",
    "#         seq_length = 100*i+5 \n",
    "#         print(\"Input Length {}: {:.3f} ms\".format(seq_length, average_time))\n",
    "#         X.append(seq_length)\n",
    "#         time_measurements.append(average_time)\n",
    "\n",
    "#     plt.scatter(X, time_measurements, label=name)\n",
    "\n",
    "\n",
    "# onnx_model = InferenceSession(\n",
    "#     \"onnx/dropbert/model.onnx\", providers=[\"CPUExecutionProvider\"]\n",
    "# )\n",
    "\n",
    "# onnx_model_quant = InferenceSession(\n",
    "#     \"onnx/dropbert/model_quant.onnx\", providers=[\"CPUExecutionProvider\"]\n",
    "# )\n",
    "\n",
    "# base_performance(\"DROP BERT Base\", model)\n",
    "# performance_seq_length(\"DROP BERT ONNX\", onnx_model)\n",
    "# performance_seq_length(\"DROP BERT ONNX Quantized\", onnx_model_quant)\n",
    "\n",
    "# plt.xlabel(\"Sequence Length (tokens)\")\n",
    "# plt.ylabel(\"Average Inference Time (ms)\")\n",
    "# plt.legend()\n",
    "# plt.show()"
   ]
  },
  {
   "cell_type": "markdown",
   "metadata": {},
   "source": [
    "### Multiple-Choice (CosmosQA BERT)"
   ]
  },
  {
   "cell_type": "code",
   "execution_count": null,
   "metadata": {},
   "outputs": [],
   "source": [
    "# tokenizer = AutoTokenizer.from_pretrained(\"bert-base-uncased\")\n",
    "# model = AutoModelWithHeads.from_pretrained(\"bert-base-uncased\")\n",
    "# adapter_name = model.load_adapter(\"AdapterHub/bert-base-uncased-pf-cosmos_qa\", source=\"hf\")\n",
    "# model.active_adapters = adapter_name\n",
    "\n",
    "# def mc_model_inference(question, context, choices):\n",
    "#     outputs = []\n",
    "\n",
    "#     raw_input = [[context, question + \" \" + choice] for choice in choices]\n",
    "#     inputs = tokenizer(raw_input, padding=True, truncation=True, return_tensors=\"pt\")\n",
    "\n",
    "#     with torch.no_grad():\n",
    "#         outputs = model(**inputs)\n",
    "\n",
    "#     answer_idx = torch.argmax(outputs.logits)\n",
    "#     return choices[answer_idx]\n",
    "\n",
    "# question = \"What animal has the most hair?\"\n",
    "# context = \"Fish are typically not hairy. Cats have 10g of hair. Tigers have 50g of hair. Horses have 100g of hair.\"\n",
    "# answer0 = \"Tiger\"\n",
    "# answer1= \"Cat\"\n",
    "# answer2= \"Horse\"\n",
    "# answer3= \"Fish\"\n",
    "# choices = [answer0, answer1, answer2, answer3]\n",
    "# answer = mc_model_inference(question, context, choices)\n",
    "# print(answer)"
   ]
  },
  {
   "cell_type": "code",
   "execution_count": null,
   "metadata": {},
   "outputs": [],
   "source": [
    "# config = AutoConfig.from_pretrained(\"bert-base-uncased\")\n",
    "# onnx_config = DropBertOnnxConfig(config, task=\"question-answering\")\n",
    "\n",
    "# onnx_path = Path(\"onnx/cosmosqabert/model.onnx\")\n",
    "\n",
    "# onnx_inputs, onnx_outputs = export(tokenizer, model, onnx_config, onnx_config.default_onnx_opset, onnx_path)\n",
    "\n",
    "# onnx_model = onnx.load(onnx_path)\n",
    "# onnx.checker.check_model(onnx_model)"
   ]
  },
  {
   "cell_type": "code",
   "execution_count": null,
   "metadata": {},
   "outputs": [],
   "source": [
    "# def onnx_inference(onnx_path, question, context, choices):\n",
    "#     onnx_model = InferenceSession(\n",
    "#         str(onnx_path), providers=[\"CPUExecutionProvider\"]\n",
    "#     )\n",
    "\n",
    "#     raw_input = [[context, question + \" \" + choice] for choice in choices]\n",
    "#     inputs = tokenizer(raw_input, padding=True, truncation=True, return_tensors=\"np\")\n",
    "\n",
    "#     outputs = onnx_model.run(input_feed=dict(inputs), output_names=None)\n",
    "\n",
    "#     answer_idx = np.argmax(np.abs(np.sum(outputs[0], axis=1)))\n",
    "#     return choices[answer_idx]\n",
    "\n",
    "# answer = onnx_inference(onnx_path, question, context, choices)\n",
    "# print(answer)"
   ]
  },
  {
   "cell_type": "code",
   "execution_count": 9,
   "metadata": {},
   "outputs": [],
   "source": [
    "# def sorter(lst):\n",
    "#     ls = [0]*len(lst)\n",
    "#     for i in range(len(lst)):\n",
    "#         space = 0\n",
    "#         t = lst[i]\n",
    "#         for j in t:\n",
    "#             if j == \" \":\n",
    "#                 space += 1\n",
    "#         ls[i] = space+1\n",
    "#     return ls\n",
    "\n",
    "# def sorting_data(lst):\n",
    "#     lst.sort(key=len)\n",
    "#     return lst\n",
    "\n",
    "# def sorting_data2(lst):\n",
    "#     h = [i.split() for i in lst]\n",
    "#     m =  sorted(h, key=len)\n",
    "#     return [\" \".join(n) for n in m]\n",
    "    \n",
    "# def get_question(sorted_context_set_index, set_of_sorted_context_list):\n",
    "#     original_index = data[\"context\"].index(set_of_sorted_context_list[sorted_context_set_index])\n",
    "#     return data[\"question\"][original_index]\n",
    "\n",
    "# def get_random_indexes_list(amount=41, intervals=50): #  2067 unique indexes\n",
    "#     max = 2066 # TODO\n",
    "#     index_list = []\n",
    "#     for i in range(amount):\n",
    "#         rand_index = random.randint(i*intervals, (i+1)*intervals)\n",
    "#         if rand_index > max:\n",
    "#             rand_index = max\n",
    "#         index_list.append(rand_index)\n",
    "#     return index_list\n",
    "\n",
    "# def get_specific_indexes_list(start, intervals):\n",
    "#     max = 2066 # TODO\n",
    "#     index_list = []\n",
    "#     for i in range(start, max, intervals):\n",
    "#         rand_index = random.randint(i, i+intervals)\n",
    "#         if rand_index > max:\n",
    "#             rand_index = max\n",
    "#         index_list.append(rand_index)\n",
    "#     return index_list"
   ]
  },
  {
   "cell_type": "code",
   "execution_count": null,
   "metadata": {},
   "outputs": [],
   "source": [
    "# import matplotlib.pyplot as plt\n",
    "\n",
    "\n",
    "# # Idea - > only use each context once. still > 2k unique contexts \n",
    "# # but also uses only of multiple questions\n",
    "# sorted_context_list = sorting_data(data[\"context\"])\n",
    "# set_of_sorted_context_list = sorting_data(list(set(sorted_context_list)))\n",
    "\n",
    "# def performance(perf_type, name, model, random_indexes):\n",
    "#     X = []\n",
    "#     time_measurements = []\n",
    "\n",
    "#     for random_index in random_indexes:\n",
    "\n",
    "#         context = set_of_sorted_context_list[random_index]\n",
    "#         question = get_question(random_index, set_of_sorted_context_list)  \n",
    "\n",
    "\n",
    "#         if perf_type == \"base\":\n",
    "#             inputs = tokenizer(question, context, return_tensors=\"pt\")\n",
    "#             average_time = run_n_times(run_torch, model, inputs)\n",
    "#         elif perf_type == \"seq_length\":\n",
    "#             inputs = tokenizer(question, context, return_tensors=\"np\")\n",
    "#             inputs = {key: np.array(inputs[key], dtype=np.int64) for key in inputs}\n",
    "#             average_time = run_n_times(run_onnx, model, inputs)\n",
    "            \n",
    "#         seq_length = len(context.split()) # TODO -> reduce stopwords? Real Tokenization?\n",
    "#         print(\"Input Length {}: {:.3f} ms\".format(seq_length, average_time))\n",
    "#         X.append(seq_length)\n",
    "#         time_measurements.append(average_time)\n",
    "\n",
    "#     plt.scatter(X, time_measurements, label=name)"
   ]
  }
 ],
 "metadata": {
  "kernelspec": {
   "display_name": "Python 3.9.13 ('adapterhub_env': venv)",
   "language": "python",
   "name": "python3"
  },
  "language_info": {
   "codemirror_mode": {
    "name": "ipython",
    "version": 3
   },
   "file_extension": ".py",
   "mimetype": "text/x-python",
   "name": "python",
   "nbconvert_exporter": "python",
   "pygments_lexer": "ipython3",
   "version": "3.9.13"
  },
  "orig_nbformat": 4,
  "vscode": {
   "interpreter": {
    "hash": "8dff476688330005cfc33f1ee0f15c13ae533c265ccd041ab146cdb98ecc6219"
   }
  }
 },
 "nbformat": 4,
 "nbformat_minor": 2
}
