{
 "cells": [
  {
   "cell_type": "code",
   "execution_count": 5,
   "metadata": {},
   "outputs": [],
   "source": [
    "from transformers import QuestionAnsweringPipeline, AutoAdapterModel, AutoModelWithHeads, AutoTokenizer, AutoConfig\n",
    "from transformers.onnx import OnnxConfig, validate_model_outputs, export\n",
    "from transformers.models.bert import BertOnnxConfig\n",
    "\n",
    "import onnx\n",
    "from onnxruntime.quantization import quantize_dynamic, QuantType\n",
    "from onnxruntime import InferenceSession\n",
    "from onnx_opcounter import calculate_params\n",
    "\n",
    "import os\n",
    "import time\n",
    "import torch\n",
    "import numpy as np\n",
    "\n",
    "from datasets import load_metric, load_dataset\n",
    "\n",
    "from typing import Mapping, OrderedDict\n",
    "from pathlib import Path"
   ]
  },
  {
   "cell_type": "markdown",
   "metadata": {},
   "source": [
    "### Extractive QA (DROP BERT)"
   ]
  },
  {
   "cell_type": "code",
   "execution_count": 19,
   "metadata": {},
   "outputs": [
    {
     "name": "stderr",
     "output_type": "stream",
     "text": [
      "c:\\Users\\henninghof\\.conda\\envs\\dasp\\lib\\site-packages\\transformers\\adapters\\models\\bert\\adapter_model.py:250: FutureWarning: This class has been renamed to `BertAdapterModel` in v3. Please use the new class instead as this class might be removed in a future version.\n",
      "  warnings.warn(\n",
      "c:\\Users\\henninghof\\.conda\\envs\\dasp\\lib\\site-packages\\transformers\\adapters\\models\\bert\\adapter_model.py:228: FutureWarning: This class has been renamed to `BertAdapterModel` in v3. Please use the new class instead as this class might be removed in a future version.\n",
      "  warnings.warn(\n",
      "Some weights of the model checkpoint at bert-base-uncased were not used when initializing BertModelWithHeads: ['cls.predictions.decoder.weight', 'cls.predictions.transform.dense.bias', 'cls.seq_relationship.weight', 'cls.predictions.bias', 'cls.seq_relationship.bias', 'cls.predictions.transform.LayerNorm.bias', 'cls.predictions.transform.dense.weight', 'cls.predictions.transform.LayerNorm.weight']\n",
      "- This IS expected if you are initializing BertModelWithHeads from the checkpoint of a model trained on another task or with another architecture (e.g. initializing a BertForSequenceClassification model from a BertForPreTraining model).\n",
      "- This IS NOT expected if you are initializing BertModelWithHeads from the checkpoint of a model that you expect to be exactly identical (initializing a BertForSequenceClassification model from a BertForSequenceClassification model).\n",
      "Downloading: 100%|██████████| 1.18k/1.18k [00:00<00:00, 587kB/s]\n",
      "c:\\Users\\henninghof\\.conda\\envs\\dasp\\lib\\site-packages\\huggingface_hub\\file_download.py:123: UserWarning: `huggingface_hub` cache-system uses symlinks by default to efficiently store duplicated files but your machine does not support them in C:\\Users\\henninghof\\.cache\\huggingface\\hub. Caching files will still work but in a degraded version that might require more space on your disk. This warning can be disabled by setting the `HF_HUB_DISABLE_SYMLINKS_WARNING` environment variable. For more details, see https://huggingface.co/docs/huggingface_hub/how-to-cache#limitations.\n",
      "To support symlinks on Windows, you either need to activate Developer Mode or to run Python as an administrator. In order to see activate developer mode, see this article: https://docs.microsoft.com/en-us/windows/apps/get-started/enable-your-device-for-development\n",
      "  warnings.warn(message)\n",
      "Downloading: 100%|██████████| 2.26k/2.26k [00:00<00:00, 1.13MB/s]\n",
      "Downloading: 100%|██████████| 570/570 [00:00<00:00, 142kB/s]/s]\n",
      "Downloading: 100%|██████████| 337/337 [00:00<00:00, 337kB/s]/s]\n",
      "Downloading: 100%|██████████| 3.59M/3.59M [00:00<00:00, 3.92MB/s]\n",
      "Downloading: 100%|██████████| 14.0k/14.0k [00:00<00:00, 6.98MB/s]\n",
      "Fetching 6 files: 100%|██████████| 6/6 [00:05<00:00,  1.09it/s]\n"
     ]
    },
    {
     "name": "stdout",
     "output_type": "stream",
     "text": [
      "physician\n"
     ]
    }
   ],
   "source": [
    "# Basic extractive QA Example\n",
    "question = \"What is Mary's job?\"\n",
    "context = \"Thomas likes animals. Mary likes strawberry ice and is a physician\"\n",
    "\n",
    "tokenizer = AutoTokenizer.from_pretrained(\"bert-base-uncased\")\n",
    "model = AutoModelWithHeads.from_pretrained(\"bert-base-uncased\")\n",
    "adapter_name = model.load_adapter(\"AdapterHub/bert-base-uncased-pf-drop\", source=\"hf\")\n",
    "model.active_adapters = adapter_name\n",
    "\n",
    "def base_model_inference(question, context):\n",
    "    inputs = tokenizer(question, context, padding=True, truncation=True, return_tensors=\"pt\")\n",
    "    \n",
    "    model.eval()\n",
    "    with torch.no_grad():\n",
    "        outputs = model(**inputs)\n",
    "\n",
    "    start_idx = torch.argmax(outputs.start_logits, axis=1).numpy()[0]\n",
    "    end_idx = (torch.argmax(outputs.end_logits, axis=1) + 1).numpy()[0]\n",
    "    return tokenizer.decode(inputs['input_ids'][0, start_idx:end_idx])\n",
    "\n",
    "answer = base_model_inference(question, context)\n",
    "print(answer)"
   ]
  },
  {
   "cell_type": "code",
   "execution_count": 21,
   "metadata": {},
   "outputs": [],
   "source": [
    "# Export to ONNX with custom config\n",
    "class DropBertOnnxConfig(OnnxConfig):\n",
    "    @property\n",
    "    def inputs(self) -> Mapping[str, Mapping[int, str]]:\n",
    "        if self.task == \"multiple-choice\":\n",
    "            dynamic_axis = {0: \"batch\", 1: \"choice\", 2: \"sequence\"}\n",
    "        else:\n",
    "            dynamic_axis = {0: \"batch\", 1: \"sequence\"}\n",
    "        return OrderedDict(\n",
    "            [\n",
    "                (\"input_ids\", dynamic_axis),\n",
    "                (\"attention_mask\", dynamic_axis),\n",
    "                (\"token_type_ids\", dynamic_axis),\n",
    "            ]\n",
    "        )\n",
    "\n",
    "config = AutoConfig.from_pretrained(\"bert-base-uncased\")\n",
    "onnx_config = DropBertOnnxConfig(config, task=\"question-answering\")\n",
    "\n",
    "onnx_path = Path(\"onnx/dropbert/model.onnx\")\n",
    "\n",
    "onnx_inputs, onnx_outputs = export(tokenizer, model, onnx_config, onnx_config.default_onnx_opset, onnx_path)\n",
    "\n",
    "onnx_model = onnx.load(onnx_path)\n",
    "onnx.checker.check_model(onnx_model)"
   ]
  },
  {
   "cell_type": "code",
   "execution_count": 22,
   "metadata": {},
   "outputs": [
    {
     "name": "stdout",
     "output_type": "stream",
     "text": [
      "[CLS]\n"
     ]
    }
   ],
   "source": [
    "# ONNX model inference\n",
    "def onnx_inference(onnx_path, question, context):\n",
    "    onnx_model = InferenceSession(\n",
    "        str(onnx_path), providers=[\"CPUExecutionProvider\"]\n",
    "    )\n",
    "\n",
    "    inputs = tokenizer(question, context, padding=True, truncation=True, return_tensors=\"np\")\n",
    "    inputs = {key: np.array(inputs[key], dtype=np.int64) for key in inputs}\n",
    "    outputs = onnx_model.run(input_feed=dict(inputs), output_names=None)\n",
    "\n",
    "    start_scores = outputs[0]\n",
    "    end_scores = outputs[1]\n",
    "    ans_start = np.argmax(start_scores)\n",
    "    ans_end = np.argmax(end_scores)+1\n",
    "    return tokenizer.decode(inputs['input_ids'][0, ans_start:ans_end])\n",
    "\n",
    "question = 'Where do I live?'\n",
    "context = 'My name is Paul and I live next to Darmstadt'\n",
    "\n",
    "answer = onnx_inference(onnx_path, question, context)\n",
    "print(answer)"
   ]
  },
  {
   "cell_type": "markdown",
   "metadata": {},
   "source": [
    "### Model Quantization"
   ]
  },
  {
   "cell_type": "code",
   "execution_count": 23,
   "metadata": {},
   "outputs": [
    {
     "name": "stdout",
     "output_type": "stream",
     "text": [
      "Size (MB): 421.1567621231079\n",
      "Size (MB): 396.7129182815552\n"
     ]
    }
   ],
   "source": [
    "# Quantize base model\n",
    "quantized_model = torch.quantization.quantize_dynamic(\n",
    "    model, {torch.nn.Linear}, dtype=torch.qint8\n",
    ")\n",
    "\n",
    "def print_size_of_model(model):\n",
    "    torch.save(model.state_dict(), \"temp.p\")\n",
    "    print('Size (MB):', os.path.getsize(\"temp.p\")/(1024*1024))\n",
    "    os.remove('temp.p')\n",
    "\n",
    "print_size_of_model(model)\n",
    "print_size_of_model(quantized_model)"
   ]
  },
  {
   "cell_type": "code",
   "execution_count": 24,
   "metadata": {},
   "outputs": [
    {
     "name": "stdout",
     "output_type": "stream",
     "text": [
      "Ignore MatMul due to non constant B: /[/bert/encoder/layer.0/attention/self/MatMul]\n",
      "Ignore MatMul due to non constant B: /[/bert/encoder/layer.0/attention/self/MatMul_1]\n",
      "Ignore MatMul due to non constant B: /[/bert/encoder/layer.1/attention/self/MatMul]\n",
      "Ignore MatMul due to non constant B: /[/bert/encoder/layer.1/attention/self/MatMul_1]\n",
      "Ignore MatMul due to non constant B: /[/bert/encoder/layer.2/attention/self/MatMul]\n",
      "Ignore MatMul due to non constant B: /[/bert/encoder/layer.2/attention/self/MatMul_1]\n",
      "Ignore MatMul due to non constant B: /[/bert/encoder/layer.3/attention/self/MatMul]\n",
      "Ignore MatMul due to non constant B: /[/bert/encoder/layer.3/attention/self/MatMul_1]\n",
      "Ignore MatMul due to non constant B: /[/bert/encoder/layer.4/attention/self/MatMul]\n",
      "Ignore MatMul due to non constant B: /[/bert/encoder/layer.4/attention/self/MatMul_1]\n",
      "Ignore MatMul due to non constant B: /[/bert/encoder/layer.5/attention/self/MatMul]\n",
      "Ignore MatMul due to non constant B: /[/bert/encoder/layer.5/attention/self/MatMul_1]\n",
      "Ignore MatMul due to non constant B: /[/bert/encoder/layer.6/attention/self/MatMul]\n",
      "Ignore MatMul due to non constant B: /[/bert/encoder/layer.6/attention/self/MatMul_1]\n",
      "Ignore MatMul due to non constant B: /[/bert/encoder/layer.7/attention/self/MatMul]\n",
      "Ignore MatMul due to non constant B: /[/bert/encoder/layer.7/attention/self/MatMul_1]\n",
      "Ignore MatMul due to non constant B: /[/bert/encoder/layer.8/attention/self/MatMul]\n",
      "Ignore MatMul due to non constant B: /[/bert/encoder/layer.8/attention/self/MatMul_1]\n",
      "Ignore MatMul due to non constant B: /[/bert/encoder/layer.9/attention/self/MatMul]\n",
      "Ignore MatMul due to non constant B: /[/bert/encoder/layer.9/attention/self/MatMul_1]\n",
      "Ignore MatMul due to non constant B: /[/bert/encoder/layer.10/attention/self/MatMul]\n",
      "Ignore MatMul due to non constant B: /[/bert/encoder/layer.10/attention/self/MatMul_1]\n",
      "Ignore MatMul due to non constant B: /[/bert/encoder/layer.11/attention/self/MatMul]\n",
      "Ignore MatMul due to non constant B: /[/bert/encoder/layer.11/attention/self/MatMul_1]\n",
      "Quantized model saved to:onnx/squadbert/model_quant.onnx\n",
      "ONNX full precision model size (MB): 419.1137351989746\n",
      "ONNX quantized model size (MB): 105.46547889709473\n"
     ]
    }
   ],
   "source": [
    "def quantize_onnx_model(onnx_model_path, quantized_model_path):\n",
    "    quantize_dynamic(onnx_model_path,\n",
    "                     quantized_model_path,\n",
    "                     weight_type=QuantType.QInt8)\n",
    "\n",
    "    print(f\"Quantized model saved to:{quantized_model_path}\")\n",
    "\n",
    "quantize_onnx_model('onnx/dropbert/model.onnx', 'onnx/dropbert/model_quant.onnx')\n",
    "\n",
    "print('ONNX full precision model size (MB):', os.path.getsize(\"onnx/dropbert/model.onnx\")/(1024*1024))\n",
    "print('ONNX quantized model size (MB):', os.path.getsize(\"onnx/dropbert/model_quant.onnx\")/(1024*1024))"
   ]
  },
  {
   "cell_type": "code",
   "execution_count": 13,
   "metadata": {},
   "outputs": [
    {
     "name": "stdout",
     "output_type": "stream",
     "text": [
      "Number of base model params: 110378306\n",
      "ONNX number of full precision model params: 109788226\n",
      "ONNX number of quantized model params: 109788758.0\n"
     ]
    }
   ],
   "source": [
    "print('Number of base model params:', model.num_parameters())\n",
    "\n",
    "def count_params_onnx(model_path):\n",
    "    onnx_model = onnx.load(model_path)\n",
    "    params = calculate_params(onnx_model)\n",
    "    return params\n",
    "\n",
    "print(\"ONNX number of full precision model params:\", count_params_onnx(\"onnx/dropbert/model.onnx\"))\n",
    "print(\"ONNX number of quantized model params:\", count_params_onnx(\"onnx/dropbert/model_quant.onnx\"))"
   ]
  },
  {
   "cell_type": "markdown",
   "metadata": {},
   "source": [
    "### Measure Performance on Dataset"
   ]
  },
  {
   "cell_type": "code",
   "execution_count": 14,
   "metadata": {},
   "outputs": [],
   "source": [
    "def run_n_times(func, model, inputs, n = 50): \n",
    "    st= time.time()\n",
    "    for _ in range(n):\n",
    "        func(model, inputs)\n",
    "    et = time.time()\n",
    "\n",
    "    avg_inference_time = 1000 * (et - st) / n\n",
    "    # message = \"Average inference time for %s (n=%d): %.2fms \" % (desc, n, avg_inference_time)\n",
    "\n",
    "    return avg_inference_time\n",
    "\n",
    "def run_torch(model, inputs):\n",
    "    with torch.no_grad():\n",
    "        model(**inputs)\n",
    "\n",
    "def run_onnx(qa_model, onnx_inputs):\n",
    "    qa_model.run(output_names=[\"start_logits\", \"end_logits\"], input_feed=dict(onnx_inputs))   "
   ]
  },
  {
   "cell_type": "code",
   "execution_count": 25,
   "metadata": {},
   "outputs": [
    {
     "name": "stdout",
     "output_type": "stream",
     "text": [
      "Input Length 5: 81.734 ms\n",
      "Input Length 105: 195.462 ms\n",
      "Input Length 205: 372.899 ms\n",
      "Input Length 305: 625.227 ms\n",
      "Input Length 405: 873.728 ms\n",
      "Input Length 505: 1212.865 ms\n",
      "Input Length 5: 28.140 ms\n",
      "Input Length 105: 109.880 ms\n",
      "Input Length 205: 221.116 ms\n",
      "Input Length 305: 343.950 ms\n",
      "Input Length 405: 461.334 ms\n",
      "Input Length 505: 896.003 ms\n",
      "Input Length 5: 13.792 ms\n",
      "Input Length 105: 127.091 ms\n",
      "Input Length 205: 174.852 ms\n",
      "Input Length 305: 334.031 ms\n",
      "Input Length 405: 375.748 ms\n",
      "Input Length 505: 488.835 ms\n"
     ]
    },
    {
     "data": {
      "image/png": "[encoded data removed]",
      "text/plain": [
       "<Figure size 640x480 with 1 Axes>"
      ]
     },
     "metadata": {},
     "output_type": "display_data"
    }
   ],
   "source": [
    "import matplotlib.pyplot as plt\n",
    "\n",
    "def performance_seq_length(name, model):\n",
    "    X = []\n",
    "    time_measurements = []\n",
    "\n",
    "    for i in range(6):\n",
    "        context = (100*i+1)*\"World \"\n",
    "        question = \"Hello\"\n",
    "\n",
    "        inputs = tokenizer(question, context, return_tensors=\"np\")\n",
    "        inputs = {key: np.array(inputs[key], dtype=np.int64) for key in inputs}\n",
    "        average_time = run_n_times(run_onnx, model, inputs)\n",
    "\n",
    "        seq_length = 100*i+5\n",
    "        print(\"Input Length {}: {:.3f} ms\".format(seq_length, average_time))\n",
    "        X.append(seq_length)\n",
    "        time_measurements.append(average_time)\n",
    "\n",
    "    plt.scatter(X, time_measurements, label=name)\n",
    "\n",
    "def base_performance(name, model):\n",
    "    X = []\n",
    "    time_measurements = []\n",
    "\n",
    "    for i in range(6):\n",
    "        context = (100*i+1)*\"World \"\n",
    "        question = \"Hello\"\n",
    "\n",
    "        inputs = tokenizer(question, context, return_tensors=\"pt\")\n",
    "        average_time = run_n_times(run_torch, model, inputs)\n",
    "        \n",
    "        seq_length = 100*i+5 \n",
    "        print(\"Input Length {}: {:.3f} ms\".format(seq_length, average_time))\n",
    "        X.append(seq_length)\n",
    "        time_measurements.append(average_time)\n",
    "\n",
    "    plt.scatter(X, time_measurements, label=name)\n",
    "\n",
    "\n",
    "onnx_model = InferenceSession(\n",
    "    \"onnx/dropbert/model.onnx\", providers=[\"CPUExecutionProvider\"]\n",
    ")\n",
    "\n",
    "onnx_model_quant = InferenceSession(\n",
    "    \"onnx/dropbert/model_quant.onnx\", providers=[\"CPUExecutionProvider\"]\n",
    ")\n",
    "\n",
    "base_performance(\"DROP BERT Base\", model)\n",
    "performance_seq_length(\"DROP BERT ONNX\", onnx_model)\n",
    "performance_seq_length(\"DROP BERT ONNX Quantized\", onnx_model_quant)\n",
    "\n",
    "plt.xlabel(\"Sequence Length (tokens)\")\n",
    "plt.ylabel(\"Average Inference Time (ms)\")\n",
    "plt.legend()\n",
    "plt.show()"
   ]
  },
  {
   "cell_type": "markdown",
   "metadata": {},
   "source": [
    "### Multiple-Choice (CosmosQA BERT)"
   ]
  },
  {
   "cell_type": "code",
   "execution_count": 27,
   "metadata": {},
   "outputs": [],
   "source": [
    "# tokenizer = AutoTokenizer.from_pretrained(\"bert-base-uncased\")\n",
    "# model = AutoModelWithHeads.from_pretrained(\"bert-base-uncased\")\n",
    "# adapter_name = model.load_adapter(\"AdapterHub/bert-base-uncased-pf-cosmos_qa\", source=\"hf\")\n",
    "# model.active_adapters = adapter_name\n",
    "\n",
    "# def mc_model_inference(question, context, choices):\n",
    "#     outputs = []\n",
    "\n",
    "#     raw_input = [[context, question + \" \" + choice] for choice in choices]\n",
    "#     inputs = tokenizer(raw_input, padding=True, truncation=True, return_tensors=\"pt\")\n",
    "\n",
    "#     with torch.no_grad():\n",
    "#         outputs = model(**inputs)\n",
    "\n",
    "#     answer_idx = torch.argmax(outputs.logits)\n",
    "#     return choices[answer_idx]\n",
    "\n",
    "# question = \"What animal has the most hair?\"\n",
    "# context = \"Fish are typically not hairy. Cats have 10g of hair. Tigers have 50g of hair. Horses have 100g of hair.\"\n",
    "# answer0 = \"Tiger\"\n",
    "# answer1= \"Cat\"\n",
    "# answer2= \"Horse\"\n",
    "# answer3= \"Fish\"\n",
    "# choices = [answer0, answer1, answer2, answer3]\n",
    "# answer = mc_model_inference(question, context, choices)\n",
    "# print(answer)"
   ]
  },
  {
   "cell_type": "code",
   "execution_count": 28,
   "metadata": {},
   "outputs": [],
   "source": [
    "# config = AutoConfig.from_pretrained(\"bert-base-uncased\")\n",
    "# onnx_config = DropBertOnnxConfig(config, task=\"question-answering\")\n",
    "\n",
    "# onnx_path = Path(\"onnx/cosmosqabert/model.onnx\")\n",
    "\n",
    "# onnx_inputs, onnx_outputs = export(tokenizer, model, onnx_config, onnx_config.default_onnx_opset, onnx_path)\n",
    "\n",
    "# onnx_model = onnx.load(onnx_path)\n",
    "# onnx.checker.check_model(onnx_model)"
   ]
  },
  {
   "cell_type": "code",
   "execution_count": 29,
   "metadata": {},
   "outputs": [],
   "source": [
    "# def onnx_inference(onnx_path, question, context, choices):\n",
    "#     onnx_model = InferenceSession(\n",
    "#         str(onnx_path), providers=[\"CPUExecutionProvider\"]\n",
    "#     )\n",
    "\n",
    "#     raw_input = [[context, question + \" \" + choice] for choice in choices]\n",
    "#     inputs = tokenizer(raw_input, padding=True, truncation=True, return_tensors=\"np\")\n",
    "\n",
    "#     outputs = onnx_model.run(input_feed=dict(inputs), output_names=None)\n",
    "\n",
    "#     answer_idx = np.argmax(np.abs(np.sum(outputs[0], axis=1)))\n",
    "#     return choices[answer_idx]\n",
    "\n",
    "# answer = onnx_inference(onnx_path, question, context, choices)\n",
    "# print(answer)"
   ]
  }
 ],
 "metadata": {
  "kernelspec": {
   "display_name": "Python 3.8.15 ('dasp')",
   "language": "python",
   "name": "python3"
  },
  "language_info": {
   "codemirror_mode": {
    "name": "ipython",
    "version": 3
   },
   "file_extension": ".py",
   "mimetype": "text/x-python",
   "name": "python",
   "nbconvert_exporter": "python",
   "pygments_lexer": "ipython3",
   "version": "3.8.15"
  },
  "orig_nbformat": 4,
  "vscode": {
   "interpreter": {
    "hash": "df1182dfc2e54ca71f6b2a770a28c42cde9adf892e5e538cdf2388e7ccb98521"
   }
  }
 },
 "nbformat": 4,
 "nbformat_minor": 2
}
