{
 "cells": [
  {
   "cell_type": "code",
   "execution_count": 263,
   "metadata": {},
   "outputs": [],
   "source": [
    "from transformers import QuestionAnsweringPipeline, AutoAdapterModel, AutoModelWithHeads, AutoTokenizer, AutoConfig\n",
    "from transformers.onnx import OnnxConfig, validate_model_outputs, export\n",
    "from transformers.models.bert import BertOnnxConfig\n",
    "\n",
    "import onnx\n",
    "from onnxruntime.quantization import quantize_dynamic, QuantType\n",
    "from onnxruntime import InferenceSession\n",
    "from onnx_opcounter import calculate_params\n",
    "\n",
    "import os\n",
    "import time\n",
    "import torch\n",
    "import numpy as np\n",
    "\n",
    "from datasets import load_metric, load_dataset\n",
    "\n",
    "from typing import Mapping, OrderedDict\n",
    "from pathlib import Path\n",
    "import random"
   ]
  },
  {
   "cell_type": "markdown",
   "metadata": {},
   "source": [
    "### Extractive QA (DROP BERT)"
   ]
  },
  {
   "cell_type": "code",
   "execution_count": 264,
   "metadata": {},
   "outputs": [
    {
     "name": "stderr",
     "output_type": "stream",
     "text": [
      "/Users/michaelhermann/Source/DASP/code/dasp_onnx/adapterhub_env/lib/python3.9/site-packages/transformers/adapters/models/bert/adapter_model.py:250: FutureWarning: This class has been renamed to `BertAdapterModel` in v3. Please use the new class instead as this class might be removed in a future version.\n",
      "  warnings.warn(\n",
      "/Users/michaelhermann/Source/DASP/code/dasp_onnx/adapterhub_env/lib/python3.9/site-packages/transformers/adapters/models/bert/adapter_model.py:228: FutureWarning: This class has been renamed to `BertAdapterModel` in v3. Please use the new class instead as this class might be removed in a future version.\n",
      "  warnings.warn(\n",
      "Some weights of the model checkpoint at bert-base-uncased were not used when initializing BertModelWithHeads: ['cls.predictions.transform.dense.weight', 'cls.predictions.transform.LayerNorm.weight', 'cls.predictions.transform.LayerNorm.bias', 'cls.predictions.decoder.weight', 'cls.seq_relationship.weight', 'cls.predictions.transform.dense.bias', 'cls.predictions.bias', 'cls.seq_relationship.bias']\n",
      "- This IS expected if you are initializing BertModelWithHeads from the checkpoint of a model trained on another task or with another architecture (e.g. initializing a BertForSequenceClassification model from a BertForPreTraining model).\n",
      "- This IS NOT expected if you are initializing BertModelWithHeads from the checkpoint of a model that you expect to be exactly identical (initializing a BertForSequenceClassification model from a BertForSequenceClassification model).\n",
      "Fetching 6 files: 100%|██████████| 6/6 [00:00<00:00, 4286.46it/s]"
     ]
    },
    {
     "name": "stdout",
     "output_type": "stream",
     "text": [
      "physician\n"
     ]
    },
    {
     "name": "stderr",
     "output_type": "stream",
     "text": [
      "\n"
     ]
    }
   ],
   "source": [
    "# Basic extractive QA Example\n",
    "question = \"What is Mary's job?\"\n",
    "context = \"Thomas likes animals. Mary likes strawberry ice and is a physician\"\n",
    "\n",
    "tokenizer = AutoTokenizer.from_pretrained(\"bert-base-uncased\")\n",
    "model = AutoModelWithHeads.from_pretrained(\"bert-base-uncased\")\n",
    "adapter_name = model.load_adapter(\"AdapterHub/bert-base-uncased-pf-drop\", source=\"hf\")\n",
    "model.active_adapters = adapter_name\n",
    "\n",
    "def base_model_inference(question, context):\n",
    "    inputs = tokenizer(question, context, padding=True, truncation=True, return_tensors=\"pt\")\n",
    "    \n",
    "    model.eval()\n",
    "    with torch.no_grad():\n",
    "        outputs = model(**inputs)\n",
    "\n",
    "    start_idx = torch.argmax(outputs.start_logits, axis=1).numpy()[0]\n",
    "    end_idx = (torch.argmax(outputs.end_logits, axis=1) + 1).numpy()[0]\n",
    "    return tokenizer.decode(inputs['input_ids'][0, start_idx:end_idx])\n",
    "\n",
    "answer = base_model_inference(question, context)\n",
    "print(answer)"
   ]
  },
  {
   "cell_type": "code",
   "execution_count": 137,
   "metadata": {},
   "outputs": [
    {
     "name": "stderr",
     "output_type": "stream",
     "text": [
      "/Users/michaelhermann/Source/DASP/code/dasp_onnx/adapterhub_env/lib/python3.9/site-packages/transformers/adapters/layer.py:49: TracerWarning: Converting a tensor to a Python boolean might cause the trace to be incorrect. We can't record the data flow of Python values, so this value will be treated as a constant in the future. This means that the trace might not generalize to other inputs!\n",
      "  if context.output_adapter_gating_scores:\n",
      "/Users/michaelhermann/Source/DASP/code/dasp_onnx/adapterhub_env/lib/python3.9/site-packages/transformers/adapters/composition.py:202: TracerWarning: Converting a tensor to a Python boolean might cause the trace to be incorrect. We can't record the data flow of Python values, so this value will be treated as a constant in the future. This means that the trace might not generalize to other inputs!\n",
      "  if tensor is not None and hidden_states.shape[0] != tensor.shape[0]:\n",
      "/Users/michaelhermann/Source/DASP/code/dasp_onnx/adapterhub_env/lib/python3.9/site-packages/transformers/adapters/context.py:117: TracerWarning: Converting a tensor to a Python boolean might cause the trace to be incorrect. We can't record the data flow of Python values, so this value will be treated as a constant in the future. This means that the trace might not generalize to other inputs!\n",
      "  if getattr(ctx, \"output_\" + attr, False):\n"
     ]
    }
   ],
   "source": [
    "# Export to ONNX with custom config\n",
    "class DropBertOnnxConfig(OnnxConfig):\n",
    "    @property\n",
    "    def inputs(self) -> Mapping[str, Mapping[int, str]]:\n",
    "        if self.task == \"multiple-choice\":\n",
    "            dynamic_axis = {0: \"batch\", 1: \"choice\", 2: \"sequence\"}\n",
    "        else:\n",
    "            dynamic_axis = {0: \"batch\", 1: \"sequence\"}\n",
    "        return OrderedDict(\n",
    "            [\n",
    "                (\"input_ids\", dynamic_axis),\n",
    "                (\"attention_mask\", dynamic_axis),\n",
    "                (\"token_type_ids\", dynamic_axis),\n",
    "            ]\n",
    "        )\n",
    "\n",
    "config = AutoConfig.from_pretrained(\"bert-base-uncased\")\n",
    "onnx_config = DropBertOnnxConfig(config, task=\"question-answering\")\n",
    "\n",
    "onnx_path = Path(\"onnx/dropbert/model.onnx\")\n",
    "\n",
    "onnx_inputs, onnx_outputs = export(tokenizer, model, onnx_config, onnx_config.default_onnx_opset, onnx_path)\n",
    "\n",
    "onnx_model = onnx.load(onnx_path)\n",
    "onnx.checker.check_model(onnx_model)"
   ]
  },
  {
   "cell_type": "code",
   "execution_count": 138,
   "metadata": {},
   "outputs": [
    {
     "name": "stdout",
     "output_type": "stream",
     "text": [
      "next to darmstadt\n"
     ]
    }
   ],
   "source": [
    "# ONNX model inference\n",
    "def onnx_inference(onnx_path, question, context):\n",
    "    onnx_model = InferenceSession(\n",
    "        str(onnx_path), providers=[\"CPUExecutionProvider\"]\n",
    "    )\n",
    "\n",
    "    inputs = tokenizer(question, context, padding=True, truncation=True, return_tensors=\"np\")\n",
    "    inputs = {key: np.array(inputs[key], dtype=np.int64) for key in inputs}\n",
    "    outputs = onnx_model.run(input_feed=dict(inputs), output_names=None)\n",
    "\n",
    "    start_scores = outputs[0]\n",
    "    end_scores = outputs[1]\n",
    "    ans_start = np.argmax(start_scores)\n",
    "    ans_end = np.argmax(end_scores)+1\n",
    "    return tokenizer.decode(inputs['input_ids'][0, ans_start:ans_end])\n",
    "\n",
    "question = 'Where do I live?'\n",
    "context = 'My name is Paul and I live next to Darmstadt'\n",
    "\n",
    "answer = onnx_inference(onnx_path, question, context)\n",
    "print(answer)"
   ]
  },
  {
   "cell_type": "markdown",
   "metadata": {},
   "source": [
    "### Model Quantization"
   ]
  },
  {
   "cell_type": "code",
   "execution_count": 139,
   "metadata": {},
   "outputs": [
    {
     "name": "stdout",
     "output_type": "stream",
     "text": [
      "Size (MB): 421.1566400527954\n",
      "Size (MB): 396.7126741409302\n"
     ]
    }
   ],
   "source": [
    "# Quantize base model\n",
    "quantized_model = torch.quantization.quantize_dynamic(\n",
    "    model, {torch.nn.Linear}, dtype=torch.qint8\n",
    ")\n",
    "\n",
    "def print_size_of_model(model):\n",
    "    torch.save(model.state_dict(), \"temp.p\")\n",
    "    print('Size (MB):', os.path.getsize(\"temp.p\")/(1024*1024))\n",
    "    os.remove('temp.p')\n",
    "\n",
    "print_size_of_model(model)\n",
    "print_size_of_model(quantized_model)"
   ]
  },
  {
   "cell_type": "code",
   "execution_count": 266,
   "metadata": {},
   "outputs": [
    {
     "name": "stdout",
     "output_type": "stream",
     "text": [
      "Ignore MatMul due to non constant B: /[/bert/encoder/layer.0/attention/self/MatMul]\n",
      "Ignore MatMul due to non constant B: /[/bert/encoder/layer.0/attention/self/MatMul_1]\n",
      "Ignore MatMul due to non constant B: /[/bert/encoder/layer.1/attention/self/MatMul]\n",
      "Ignore MatMul due to non constant B: /[/bert/encoder/layer.1/attention/self/MatMul_1]\n",
      "Ignore MatMul due to non constant B: /[/bert/encoder/layer.2/attention/self/MatMul]\n",
      "Ignore MatMul due to non constant B: /[/bert/encoder/layer.2/attention/self/MatMul_1]\n",
      "Ignore MatMul due to non constant B: /[/bert/encoder/layer.3/attention/self/MatMul]\n",
      "Ignore MatMul due to non constant B: /[/bert/encoder/layer.3/attention/self/MatMul_1]\n",
      "Ignore MatMul due to non constant B: /[/bert/encoder/layer.4/attention/self/MatMul]\n",
      "Ignore MatMul due to non constant B: /[/bert/encoder/layer.4/attention/self/MatMul_1]\n",
      "Ignore MatMul due to non constant B: /[/bert/encoder/layer.5/attention/self/MatMul]\n",
      "Ignore MatMul due to non constant B: /[/bert/encoder/layer.5/attention/self/MatMul_1]\n",
      "Ignore MatMul due to non constant B: /[/bert/encoder/layer.6/attention/self/MatMul]\n",
      "Ignore MatMul due to non constant B: /[/bert/encoder/layer.6/attention/self/MatMul_1]\n",
      "Ignore MatMul due to non constant B: /[/bert/encoder/layer.7/attention/self/MatMul]\n",
      "Ignore MatMul due to non constant B: /[/bert/encoder/layer.7/attention/self/MatMul_1]\n",
      "Ignore MatMul due to non constant B: /[/bert/encoder/layer.8/attention/self/MatMul]\n",
      "Ignore MatMul due to non constant B: /[/bert/encoder/layer.8/attention/self/MatMul_1]\n",
      "Ignore MatMul due to non constant B: /[/bert/encoder/layer.9/attention/self/MatMul]\n",
      "Ignore MatMul due to non constant B: /[/bert/encoder/layer.9/attention/self/MatMul_1]\n",
      "Ignore MatMul due to non constant B: /[/bert/encoder/layer.10/attention/self/MatMul]\n",
      "Ignore MatMul due to non constant B: /[/bert/encoder/layer.10/attention/self/MatMul_1]\n",
      "Ignore MatMul due to non constant B: /[/bert/encoder/layer.11/attention/self/MatMul]\n",
      "Ignore MatMul due to non constant B: /[/bert/encoder/layer.11/attention/self/MatMul_1]\n",
      "Quantized model saved to:onnx/dropbert/model_quant.onnx\n",
      "ONNX full precision model size (MB): 419.11339473724365\n",
      "ONNX quantized model size (MB): 105.46476078033447\n"
     ]
    }
   ],
   "source": [
    "def quantize_onnx_model(onnx_model_path, quantized_model_path):\n",
    "    quantize_dynamic(onnx_model_path,\n",
    "                     quantized_model_path,\n",
    "                     weight_type=QuantType.QInt8)\n",
    "\n",
    "    print(f\"Quantized model saved to:{quantized_model_path}\")\n",
    "\n",
    "quantize_onnx_model('onnx/dropbert/model.onnx', 'onnx/dropbert/model_quant.onnx')\n",
    "\n",
    "print('ONNX full precision model size (MB):', os.path.getsize(\"onnx/dropbert/model.onnx\")/(1024*1024))\n",
    "print('ONNX quantized model size (MB):', os.path.getsize(\"onnx/dropbert/model_quant.onnx\")/(1024*1024))"
   ]
  },
  {
   "cell_type": "code",
   "execution_count": null,
   "metadata": {},
   "outputs": [
    {
     "name": "stdout",
     "output_type": "stream",
     "text": [
      "Number of base model params: 110378306\n",
      "ONNX number of full precision model params: 109788226\n",
      "ONNX number of quantized model params: 109788758.0\n"
     ]
    }
   ],
   "source": [
    "print('Number of base model params:', model.num_parameters())\n",
    "\n",
    "def count_params_onnx(model_path):\n",
    "    onnx_model = onnx.load(model_path)\n",
    "    params = calculate_params(onnx_model)\n",
    "    return params\n",
    "\n",
    "print(\"ONNX number of full precision model params:\", count_params_onnx(\"onnx/dropbert/model.onnx\"))\n",
    "print(\"ONNX number of quantized model params:\", count_params_onnx(\"onnx/dropbert/model_quant.onnx\"))"
   ]
  },
  {
   "cell_type": "markdown",
   "metadata": {},
   "source": [
    "### Measure Performance on Dataset"
   ]
  },
  {
   "cell_type": "code",
   "execution_count": null,
   "metadata": {},
   "outputs": [],
   "source": [
    "def run_n_times(func, model, inputs, n = 50): \n",
    "    st= time.time()\n",
    "    for _ in range(n):\n",
    "        func(model, inputs)\n",
    "    et = time.time()\n",
    "\n",
    "    avg_inference_time = 1000 * (et - st) / n\n",
    "    # message = \"Average inference time for %s (n=%d): %.2fms \" % (desc, n, avg_inference_time)\n",
    "\n",
    "    return avg_inference_time\n",
    "\n",
    "def run_torch(model, inputs):\n",
    "    with torch.no_grad():\n",
    "        model(**inputs)\n",
    "\n",
    "def run_onnx(qa_model, onnx_inputs):\n",
    "    qa_model.run(output_names=[\"start_logits\", \"end_logits\"], input_feed=dict(onnx_inputs))   "
   ]
  },
  {
   "cell_type": "code",
   "execution_count": null,
   "metadata": {},
   "outputs": [],
   "source": []
  },
  {
   "cell_type": "code",
   "execution_count": 169,
   "metadata": {},
   "outputs": [
    {
     "name": "stderr",
     "output_type": "stream",
     "text": [
      "WARNING:datasets.builder:Found cached dataset squad (/Users/michaelhermann/.cache/huggingface/datasets/squad/plain_text/1.0.0/d6ec3ceb99ca480ce37cdd35555d6cb2511d223b9150cce08a837ef62ffea453)\n"
     ]
    }
   ],
   "source": [
    "data = load_dataset(\"squad\", split='validation')"
   ]
  },
  {
   "cell_type": "code",
   "execution_count": 303,
   "metadata": {},
   "outputs": [],
   "source": [
    "def sorting_data(lst):\n",
    "    lst.sort(key=len)\n",
    "    return lst\n",
    "    \n",
    "def get_question(sorted_context_set_index, set_of_sorted_context_list):\n",
    "    original_index = data[\"context\"].index(set_of_sorted_context_list[sorted_context_set_index])\n",
    "    return data[\"question\"][original_index]\n",
    "\n",
    "def get_random_indexes_list(amount=41, intervals=50): #  2067 unique indexes\n",
    "    max = 2066 # TODO\n",
    "    index_list = []\n",
    "    for i in range(amount):\n",
    "        rand_index = random.randint(i*intervals, (i+1)*intervals)\n",
    "        if rand_index > max:\n",
    "            rand_index = max\n",
    "        index_list.append(rand_index)\n",
    "    return index_list\n",
    "\n",
    "def get_specific_indexes_list(start, intervals):\n",
    "    max = 2066 # TODO\n",
    "    index_list = []\n",
    "    for i in range(start, max, intervals):\n",
    "        rand_index = random.randint(i, i+intervals)\n",
    "        if rand_index > max:\n",
    "            rand_index = max\n",
    "        index_list.append(rand_index)\n",
    "    return index_list"
   ]
  },
  {
   "cell_type": "code",
   "execution_count": null,
   "metadata": {},
   "outputs": [],
   "source": []
  },
  {
   "cell_type": "code",
   "execution_count": 268,
   "metadata": {},
   "outputs": [],
   "source": [
    "import matplotlib.pyplot as plt\n",
    "\n",
    "\n",
    "# Idea - > only use each context once. still > 2k unique contexts \n",
    "# but also uses only of multiple questions\n",
    "sorted_context_list = sorting_data(data[\"context\"])\n",
    "set_of_sorted_context_list = sorting_data(list(set(sorted_context_list)))\n",
    "\n",
    "def performance(perf_type, name, model, random_indexes):\n",
    "    X = []\n",
    "    time_measurements = []\n",
    "\n",
    "    for random_index in random_indexes:\n",
    "\n",
    "        context = set_of_sorted_context_list[random_index]\n",
    "        question = get_question(random_index, set_of_sorted_context_list)  \n",
    "\n",
    "\n",
    "        if perf_type == \"base\":\n",
    "            inputs = tokenizer(question, context, return_tensors=\"pt\")\n",
    "            average_time = run_n_times(run_torch, model, inputs)\n",
    "        elif perf_type == \"seq_length\":\n",
    "            inputs = tokenizer(question, context, return_tensors=\"np\")\n",
    "            inputs = {key: np.array(inputs[key], dtype=np.int64) for key in inputs}\n",
    "            average_time = run_n_times(run_onnx, model, inputs)\n",
    "            \n",
    "        seq_length = len(context.split()) # TODO -> reduce stopwords? Real Tokenization?\n",
    "        print(\"Input Length {}: {:.3f} ms\".format(seq_length, average_time))\n",
    "        X.append(seq_length)\n",
    "        time_measurements.append(average_time)\n",
    "\n",
    "    plt.scatter(X, time_measurements, label=name)"
   ]
  },
  {
   "cell_type": "code",
   "execution_count": 277,
   "metadata": {},
   "outputs": [
    {
     "data": {
      "text/plain": [
       "2067"
      ]
     },
     "execution_count": 277,
     "metadata": {},
     "output_type": "execute_result"
    }
   ],
   "source": [
    "len(set_of_sorted_context_list)"
   ]
  },
  {
   "cell_type": "code",
   "execution_count": 282,
   "metadata": {},
   "outputs": [
    {
     "data": {
      "text/plain": [
       "483"
      ]
     },
     "execution_count": 282,
     "metadata": {},
     "output_type": "execute_result"
    }
   ],
   "source": [
    "len(set_of_sorted_context_list[2063].split())"
   ]
  },
  {
   "cell_type": "code",
   "execution_count": null,
   "metadata": {},
   "outputs": [],
   "source": []
  },
  {
   "cell_type": "code",
   "execution_count": 269,
   "metadata": {},
   "outputs": [],
   "source": [
    "onnx_model = InferenceSession(\n",
    "    \"onnx/dropbert/model.onnx\", providers=[\"CPUExecutionProvider\"]\n",
    ")\n",
    "\n",
    "onnx_model_quant = InferenceSession(\n",
    "    \"onnx/dropbert/model_quant.onnx\", providers=[\"CPUExecutionProvider\"]\n",
    ")"
   ]
  },
  {
   "cell_type": "code",
   "execution_count": 305,
   "metadata": {},
   "outputs": [
    {
     "name": "stdout",
     "output_type": "stream",
     "text": [
      "Input Length 111: 129.945 ms\n",
      "Input Length 109: 141.383 ms\n",
      "Input Length 118: 161.414 ms\n",
      "Input Length 125: 174.847 ms\n",
      "Input Length 114: 196.811 ms\n",
      "Input Length 139: 238.505 ms\n",
      "Input Length 126: 198.560 ms\n",
      "Input Length 132: 210.235 ms\n",
      "Input Length 138: 174.433 ms\n",
      "Input Length 139: 182.260 ms\n",
      "Input Length 138: 170.754 ms\n",
      "Input Length 149: 192.903 ms\n",
      "Input Length 146: 205.388 ms\n"
     ]
    }
   ],
   "source": [
    "# random_indexes = get_random_indexes_list(21, 100) \n",
    "random_indexes = get_specific_indexes_list(1000, 50)\n",
    "\n",
    "performance(\"base\", \"DROP BERT Base\", model, random_indexes)\n",
    "performance(\"seq_length\", \"DROP BERT ONNX\", onnx_model, random_indexes)\n",
    "performance(\"seq_length\", \"DROP BERT ONNX Quantized\", onnx_model_quant, random_indexes)\n",
    "\n",
    "plt.xlabel(\"Sequence Length (tokens)\")\n",
    "plt.ylabel(\"Average Inference Time (ms)\")\n",
    "plt.legend()\n",
    "plt.show()"
   ]
  },
  {
   "cell_type": "code",
   "execution_count": null,
   "metadata": {},
   "outputs": [],
   "source": []
  },
  {
   "cell_type": "code",
   "execution_count": null,
   "metadata": {},
   "outputs": [
    {
     "name": "stdout",
     "output_type": "stream",
     "text": [
      "Input Length 5: 29.691 ms\n",
      "Input Length 105: 72.182 ms\n",
      "Input Length 205: 150.571 ms\n",
      "Input Length 305: 237.840 ms\n",
      "Input Length 405: 321.681 ms\n"
     ]
    },
    {
     "name": "stderr",
     "output_type": "stream",
     "text": [
      "Token indices sequence length is longer than the specified maximum sequence length for this model (605 > 512). Running this sequence through the model will result in indexing errors\n"
     ]
    },
    {
     "name": "stdout",
     "output_type": "stream",
     "text": [
      "Input Length 505: 435.173 ms\n"
     ]
    },
    {
     "ename": "RuntimeError",
     "evalue": "The size of tensor a (605) must match the size of tensor b (512) at non-singleton dimension 1",
     "output_type": "error",
     "traceback": [
      "\u001b[0;31m---------------------------------------------------------------------------\u001b[0m",
      "\u001b[0;31mRuntimeError\u001b[0m                              Traceback (most recent call last)",
      "Cell \u001b[0;32mIn [18], line 50\u001b[0m\n\u001b[1;32m     42\u001b[0m onnx_model \u001b[39m=\u001b[39m InferenceSession(\n\u001b[1;32m     43\u001b[0m     \u001b[39m\"\u001b[39m\u001b[39monnx/dropbert/model.onnx\u001b[39m\u001b[39m\"\u001b[39m, providers\u001b[39m=\u001b[39m[\u001b[39m\"\u001b[39m\u001b[39mCPUExecutionProvider\u001b[39m\u001b[39m\"\u001b[39m]\n\u001b[1;32m     44\u001b[0m )\n\u001b[1;32m     46\u001b[0m onnx_model_quant \u001b[39m=\u001b[39m InferenceSession(\n\u001b[1;32m     47\u001b[0m     \u001b[39m\"\u001b[39m\u001b[39monnx/dropbert/model_quant.onnx\u001b[39m\u001b[39m\"\u001b[39m, providers\u001b[39m=\u001b[39m[\u001b[39m\"\u001b[39m\u001b[39mCPUExecutionProvider\u001b[39m\u001b[39m\"\u001b[39m]\n\u001b[1;32m     48\u001b[0m )\n\u001b[0;32m---> 50\u001b[0m base_performance(\u001b[39m\"\u001b[39;49m\u001b[39mDROP BERT Base\u001b[39;49m\u001b[39m\"\u001b[39;49m, model)\n\u001b[1;32m     51\u001b[0m performance_seq_length(\u001b[39m\"\u001b[39m\u001b[39mDROP BERT ONNX\u001b[39m\u001b[39m\"\u001b[39m, onnx_model)\n\u001b[1;32m     52\u001b[0m performance_seq_length(\u001b[39m\"\u001b[39m\u001b[39mDROP BERT ONNX Quantized\u001b[39m\u001b[39m\"\u001b[39m, onnx_model_quant)\n",
      "Cell \u001b[0;32mIn [18], line 32\u001b[0m, in \u001b[0;36mbase_performance\u001b[0;34m(name, model)\u001b[0m\n\u001b[1;32m     29\u001b[0m question \u001b[39m=\u001b[39m \u001b[39m\"\u001b[39m\u001b[39mHello\u001b[39m\u001b[39m\"\u001b[39m\n\u001b[1;32m     31\u001b[0m inputs \u001b[39m=\u001b[39m tokenizer(question, context, return_tensors\u001b[39m=\u001b[39m\u001b[39m\"\u001b[39m\u001b[39mpt\u001b[39m\u001b[39m\"\u001b[39m)\n\u001b[0;32m---> 32\u001b[0m average_time \u001b[39m=\u001b[39m run_n_times(run_torch, model, inputs)\n\u001b[1;32m     34\u001b[0m seq_length \u001b[39m=\u001b[39m \u001b[39m100\u001b[39m\u001b[39m*\u001b[39mi\u001b[39m+\u001b[39m\u001b[39m5\u001b[39m \n\u001b[1;32m     35\u001b[0m \u001b[39mprint\u001b[39m(\u001b[39m\"\u001b[39m\u001b[39mInput Length \u001b[39m\u001b[39m{}\u001b[39;00m\u001b[39m: \u001b[39m\u001b[39m{:.3f}\u001b[39;00m\u001b[39m ms\u001b[39m\u001b[39m\"\u001b[39m\u001b[39m.\u001b[39mformat(seq_length, average_time))\n",
      "Cell \u001b[0;32mIn [15], line 4\u001b[0m, in \u001b[0;36mrun_n_times\u001b[0;34m(func, model, inputs, n)\u001b[0m\n\u001b[1;32m      2\u001b[0m st\u001b[39m=\u001b[39m time\u001b[39m.\u001b[39mtime()\n\u001b[1;32m      3\u001b[0m \u001b[39mfor\u001b[39;00m _ \u001b[39min\u001b[39;00m \u001b[39mrange\u001b[39m(n):\n\u001b[0;32m----> 4\u001b[0m     func(model, inputs)\n\u001b[1;32m      5\u001b[0m et \u001b[39m=\u001b[39m time\u001b[39m.\u001b[39mtime()\n\u001b[1;32m      7\u001b[0m avg_inference_time \u001b[39m=\u001b[39m \u001b[39m1000\u001b[39m \u001b[39m*\u001b[39m (et \u001b[39m-\u001b[39m st) \u001b[39m/\u001b[39m n\n",
      "Cell \u001b[0;32mIn [15], line 14\u001b[0m, in \u001b[0;36mrun_torch\u001b[0;34m(model, inputs)\u001b[0m\n\u001b[1;32m     12\u001b[0m \u001b[39mdef\u001b[39;00m \u001b[39mrun_torch\u001b[39m(model, inputs):\n\u001b[1;32m     13\u001b[0m     \u001b[39mwith\u001b[39;00m torch\u001b[39m.\u001b[39mno_grad():\n\u001b[0;32m---> 14\u001b[0m         model(\u001b[39m*\u001b[39;49m\u001b[39m*\u001b[39;49minputs)\n",
      "File \u001b[0;32m~/Source/DASP/code/dasp_onnx/adapterhub_env/lib/python3.9/site-packages/torch/nn/modules/module.py:1190\u001b[0m, in \u001b[0;36mModule._call_impl\u001b[0;34m(self, *input, **kwargs)\u001b[0m\n\u001b[1;32m   1186\u001b[0m \u001b[39m# If we don't have any hooks, we want to skip the rest of the logic in\u001b[39;00m\n\u001b[1;32m   1187\u001b[0m \u001b[39m# this function, and just call forward.\u001b[39;00m\n\u001b[1;32m   1188\u001b[0m \u001b[39mif\u001b[39;00m \u001b[39mnot\u001b[39;00m (\u001b[39mself\u001b[39m\u001b[39m.\u001b[39m_backward_hooks \u001b[39mor\u001b[39;00m \u001b[39mself\u001b[39m\u001b[39m.\u001b[39m_forward_hooks \u001b[39mor\u001b[39;00m \u001b[39mself\u001b[39m\u001b[39m.\u001b[39m_forward_pre_hooks \u001b[39mor\u001b[39;00m _global_backward_hooks\n\u001b[1;32m   1189\u001b[0m         \u001b[39mor\u001b[39;00m _global_forward_hooks \u001b[39mor\u001b[39;00m _global_forward_pre_hooks):\n\u001b[0;32m-> 1190\u001b[0m     \u001b[39mreturn\u001b[39;00m forward_call(\u001b[39m*\u001b[39;49m\u001b[39minput\u001b[39;49m, \u001b[39m*\u001b[39;49m\u001b[39m*\u001b[39;49mkwargs)\n\u001b[1;32m   1191\u001b[0m \u001b[39m# Do not call functions when jit is used\u001b[39;00m\n\u001b[1;32m   1192\u001b[0m full_backward_hooks, non_full_backward_hooks \u001b[39m=\u001b[39m [], []\n",
      "File \u001b[0;32m~/Source/DASP/code/dasp_onnx/adapterhub_env/lib/python3.9/site-packages/transformers/adapters/models/bert/adapter_model.py:63\u001b[0m, in \u001b[0;36mBertAdapterModel.forward\u001b[0;34m(self, input_ids, attention_mask, token_type_ids, position_ids, head_mask, inputs_embeds, output_attentions, output_hidden_states, return_dict, head, output_adapter_gating_scores, output_adapter_fusion_attentions, **kwargs)\u001b[0m\n\u001b[1;32m     55\u001b[0m inputs_embeds \u001b[39m=\u001b[39m (\n\u001b[1;32m     56\u001b[0m     inputs_embeds\u001b[39m.\u001b[39mview(\u001b[39m-\u001b[39m\u001b[39m1\u001b[39m, inputs_embeds\u001b[39m.\u001b[39msize(\u001b[39m-\u001b[39m\u001b[39m2\u001b[39m), inputs_embeds\u001b[39m.\u001b[39msize(\u001b[39m-\u001b[39m\u001b[39m1\u001b[39m))\n\u001b[1;32m     57\u001b[0m     \u001b[39mif\u001b[39;00m inputs_embeds \u001b[39mis\u001b[39;00m \u001b[39mnot\u001b[39;00m \u001b[39mNone\u001b[39;00m\n\u001b[1;32m     58\u001b[0m     \u001b[39melse\u001b[39;00m \u001b[39mNone\u001b[39;00m\n\u001b[1;32m     59\u001b[0m )\n\u001b[1;32m     61\u001b[0m return_dict \u001b[39m=\u001b[39m return_dict \u001b[39mif\u001b[39;00m return_dict \u001b[39mis\u001b[39;00m \u001b[39mnot\u001b[39;00m \u001b[39mNone\u001b[39;00m \u001b[39melse\u001b[39;00m \u001b[39mself\u001b[39m\u001b[39m.\u001b[39mconfig\u001b[39m.\u001b[39muse_return_dict\n\u001b[0;32m---> 63\u001b[0m outputs \u001b[39m=\u001b[39m \u001b[39mself\u001b[39;49m\u001b[39m.\u001b[39;49mbert(\n\u001b[1;32m     64\u001b[0m     input_ids,\n\u001b[1;32m     65\u001b[0m     attention_mask\u001b[39m=\u001b[39;49mattention_mask,\n\u001b[1;32m     66\u001b[0m     token_type_ids\u001b[39m=\u001b[39;49mtoken_type_ids,\n\u001b[1;32m     67\u001b[0m     position_ids\u001b[39m=\u001b[39;49mposition_ids,\n\u001b[1;32m     68\u001b[0m     head_mask\u001b[39m=\u001b[39;49mhead_mask,\n\u001b[1;32m     69\u001b[0m     inputs_embeds\u001b[39m=\u001b[39;49minputs_embeds,\n\u001b[1;32m     70\u001b[0m     output_attentions\u001b[39m=\u001b[39;49moutput_attentions,\n\u001b[1;32m     71\u001b[0m     output_hidden_states\u001b[39m=\u001b[39;49moutput_hidden_states,\n\u001b[1;32m     72\u001b[0m     return_dict\u001b[39m=\u001b[39;49mreturn_dict,\n\u001b[1;32m     73\u001b[0m     output_adapter_gating_scores\u001b[39m=\u001b[39;49moutput_adapter_gating_scores,\n\u001b[1;32m     74\u001b[0m     output_adapter_fusion_attentions\u001b[39m=\u001b[39;49moutput_adapter_fusion_attentions,\n\u001b[1;32m     75\u001b[0m )\n\u001b[1;32m     76\u001b[0m \u001b[39m# BERT & RoBERTa return the pooled output as second item, we don't need that in these heads\u001b[39;00m\n\u001b[1;32m     77\u001b[0m \u001b[39mif\u001b[39;00m \u001b[39mnot\u001b[39;00m return_dict:\n",
      "File \u001b[0;32m~/Source/DASP/code/dasp_onnx/adapterhub_env/lib/python3.9/site-packages/torch/nn/modules/module.py:1190\u001b[0m, in \u001b[0;36mModule._call_impl\u001b[0;34m(self, *input, **kwargs)\u001b[0m\n\u001b[1;32m   1186\u001b[0m \u001b[39m# If we don't have any hooks, we want to skip the rest of the logic in\u001b[39;00m\n\u001b[1;32m   1187\u001b[0m \u001b[39m# this function, and just call forward.\u001b[39;00m\n\u001b[1;32m   1188\u001b[0m \u001b[39mif\u001b[39;00m \u001b[39mnot\u001b[39;00m (\u001b[39mself\u001b[39m\u001b[39m.\u001b[39m_backward_hooks \u001b[39mor\u001b[39;00m \u001b[39mself\u001b[39m\u001b[39m.\u001b[39m_forward_hooks \u001b[39mor\u001b[39;00m \u001b[39mself\u001b[39m\u001b[39m.\u001b[39m_forward_pre_hooks \u001b[39mor\u001b[39;00m _global_backward_hooks\n\u001b[1;32m   1189\u001b[0m         \u001b[39mor\u001b[39;00m _global_forward_hooks \u001b[39mor\u001b[39;00m _global_forward_pre_hooks):\n\u001b[0;32m-> 1190\u001b[0m     \u001b[39mreturn\u001b[39;00m forward_call(\u001b[39m*\u001b[39;49m\u001b[39minput\u001b[39;49m, \u001b[39m*\u001b[39;49m\u001b[39m*\u001b[39;49mkwargs)\n\u001b[1;32m   1191\u001b[0m \u001b[39m# Do not call functions when jit is used\u001b[39;00m\n\u001b[1;32m   1192\u001b[0m full_backward_hooks, non_full_backward_hooks \u001b[39m=\u001b[39m [], []\n",
      "File \u001b[0;32m~/Source/DASP/code/dasp_onnx/adapterhub_env/lib/python3.9/site-packages/transformers/adapters/context.py:108\u001b[0m, in \u001b[0;36mForwardContext.wrap.<locals>.wrapper_func\u001b[0;34m(self, *args, **kwargs)\u001b[0m\n\u001b[1;32m    104\u001b[0m \u001b[39mwith\u001b[39;00m \u001b[39mcls\u001b[39m(\u001b[39mself\u001b[39m, \u001b[39m*\u001b[39margs, \u001b[39m*\u001b[39m\u001b[39m*\u001b[39mkwargs) \u001b[39mas\u001b[39;00m ctx:\n\u001b[1;32m    105\u001b[0m     kwargs \u001b[39m=\u001b[39m {\n\u001b[1;32m    106\u001b[0m         k: v \u001b[39mfor\u001b[39;00m k, v \u001b[39min\u001b[39;00m kwargs\u001b[39m.\u001b[39mitems() \u001b[39mif\u001b[39;00m k\u001b[39m.\u001b[39mreplace(\u001b[39m\"\u001b[39m\u001b[39moutput_\u001b[39m\u001b[39m\"\u001b[39m, \u001b[39m\"\u001b[39m\u001b[39m\"\u001b[39m) \u001b[39mnot\u001b[39;00m \u001b[39min\u001b[39;00m \u001b[39mcls\u001b[39m\u001b[39m.\u001b[39mcontext_attributes\n\u001b[1;32m    107\u001b[0m     }\n\u001b[0;32m--> 108\u001b[0m     results \u001b[39m=\u001b[39m f(\u001b[39mself\u001b[39;49m, \u001b[39m*\u001b[39;49margs, \u001b[39m*\u001b[39;49m\u001b[39m*\u001b[39;49mkwargs)\n\u001b[1;32m    110\u001b[0m     \u001b[39m# append output attributes\u001b[39;00m\n\u001b[1;32m    111\u001b[0m     \u001b[39mif\u001b[39;00m \u001b[39misinstance\u001b[39m(results, \u001b[39mtuple\u001b[39m):\n",
      "File \u001b[0;32m~/Source/DASP/code/dasp_onnx/adapterhub_env/lib/python3.9/site-packages/transformers/models/bert/modeling_bert.py:1042\u001b[0m, in \u001b[0;36mBertModel.forward\u001b[0;34m(self, input_ids, attention_mask, token_type_ids, position_ids, head_mask, inputs_embeds, encoder_hidden_states, encoder_attention_mask, past_key_values, use_cache, output_attentions, output_hidden_states, return_dict)\u001b[0m\n\u001b[1;32m   1035\u001b[0m \u001b[39m# Prepare head mask if needed\u001b[39;00m\n\u001b[1;32m   1036\u001b[0m \u001b[39m# 1.0 in head_mask indicate we keep the head\u001b[39;00m\n\u001b[1;32m   1037\u001b[0m \u001b[39m# attention_probs has shape bsz x n_heads x N x N\u001b[39;00m\n\u001b[1;32m   1038\u001b[0m \u001b[39m# input head_mask has shape [num_heads] or [num_hidden_layers x num_heads]\u001b[39;00m\n\u001b[1;32m   1039\u001b[0m \u001b[39m# and head_mask is converted to shape [num_hidden_layers x batch x num_heads x seq_length x seq_length]\u001b[39;00m\n\u001b[1;32m   1040\u001b[0m head_mask \u001b[39m=\u001b[39m \u001b[39mself\u001b[39m\u001b[39m.\u001b[39mget_head_mask(head_mask, \u001b[39mself\u001b[39m\u001b[39m.\u001b[39mconfig\u001b[39m.\u001b[39mnum_hidden_layers)\n\u001b[0;32m-> 1042\u001b[0m embedding_output \u001b[39m=\u001b[39m \u001b[39mself\u001b[39;49m\u001b[39m.\u001b[39;49membeddings(\n\u001b[1;32m   1043\u001b[0m     input_ids\u001b[39m=\u001b[39;49minput_ids,\n\u001b[1;32m   1044\u001b[0m     position_ids\u001b[39m=\u001b[39;49mposition_ids,\n\u001b[1;32m   1045\u001b[0m     token_type_ids\u001b[39m=\u001b[39;49mtoken_type_ids,\n\u001b[1;32m   1046\u001b[0m     inputs_embeds\u001b[39m=\u001b[39;49minputs_embeds,\n\u001b[1;32m   1047\u001b[0m     past_key_values_length\u001b[39m=\u001b[39;49mpast_key_values_length,\n\u001b[1;32m   1048\u001b[0m )\n\u001b[1;32m   1049\u001b[0m embedding_output \u001b[39m=\u001b[39m \u001b[39mself\u001b[39m\u001b[39m.\u001b[39minvertible_adapters_forward(embedding_output)\n\u001b[1;32m   1051\u001b[0m encoder_outputs \u001b[39m=\u001b[39m \u001b[39mself\u001b[39m\u001b[39m.\u001b[39mencoder(\n\u001b[1;32m   1052\u001b[0m     embedding_output,\n\u001b[1;32m   1053\u001b[0m     attention_mask\u001b[39m=\u001b[39mextended_attention_mask,\n\u001b[0;32m   (...)\u001b[0m\n\u001b[1;32m   1061\u001b[0m     return_dict\u001b[39m=\u001b[39mreturn_dict,\n\u001b[1;32m   1062\u001b[0m )\n",
      "File \u001b[0;32m~/Source/DASP/code/dasp_onnx/adapterhub_env/lib/python3.9/site-packages/torch/nn/modules/module.py:1190\u001b[0m, in \u001b[0;36mModule._call_impl\u001b[0;34m(self, *input, **kwargs)\u001b[0m\n\u001b[1;32m   1186\u001b[0m \u001b[39m# If we don't have any hooks, we want to skip the rest of the logic in\u001b[39;00m\n\u001b[1;32m   1187\u001b[0m \u001b[39m# this function, and just call forward.\u001b[39;00m\n\u001b[1;32m   1188\u001b[0m \u001b[39mif\u001b[39;00m \u001b[39mnot\u001b[39;00m (\u001b[39mself\u001b[39m\u001b[39m.\u001b[39m_backward_hooks \u001b[39mor\u001b[39;00m \u001b[39mself\u001b[39m\u001b[39m.\u001b[39m_forward_hooks \u001b[39mor\u001b[39;00m \u001b[39mself\u001b[39m\u001b[39m.\u001b[39m_forward_pre_hooks \u001b[39mor\u001b[39;00m _global_backward_hooks\n\u001b[1;32m   1189\u001b[0m         \u001b[39mor\u001b[39;00m _global_forward_hooks \u001b[39mor\u001b[39;00m _global_forward_pre_hooks):\n\u001b[0;32m-> 1190\u001b[0m     \u001b[39mreturn\u001b[39;00m forward_call(\u001b[39m*\u001b[39;49m\u001b[39minput\u001b[39;49m, \u001b[39m*\u001b[39;49m\u001b[39m*\u001b[39;49mkwargs)\n\u001b[1;32m   1191\u001b[0m \u001b[39m# Do not call functions when jit is used\u001b[39;00m\n\u001b[1;32m   1192\u001b[0m full_backward_hooks, non_full_backward_hooks \u001b[39m=\u001b[39m [], []\n",
      "File \u001b[0;32m~/Source/DASP/code/dasp_onnx/adapterhub_env/lib/python3.9/site-packages/transformers/models/bert/modeling_bert.py:251\u001b[0m, in \u001b[0;36mBertEmbeddings.forward\u001b[0;34m(self, input_ids, token_type_ids, position_ids, inputs_embeds, past_key_values_length)\u001b[0m\n\u001b[1;32m    249\u001b[0m \u001b[39mif\u001b[39;00m \u001b[39mself\u001b[39m\u001b[39m.\u001b[39mposition_embedding_type \u001b[39m==\u001b[39m \u001b[39m\"\u001b[39m\u001b[39mabsolute\u001b[39m\u001b[39m\"\u001b[39m:\n\u001b[1;32m    250\u001b[0m     position_embeddings \u001b[39m=\u001b[39m \u001b[39mself\u001b[39m\u001b[39m.\u001b[39mposition_embeddings(position_ids)\n\u001b[0;32m--> 251\u001b[0m     embeddings \u001b[39m+\u001b[39m\u001b[39m=\u001b[39m position_embeddings\n\u001b[1;32m    252\u001b[0m embeddings \u001b[39m=\u001b[39m \u001b[39mself\u001b[39m\u001b[39m.\u001b[39mLayerNorm(embeddings)\n\u001b[1;32m    253\u001b[0m embeddings \u001b[39m=\u001b[39m \u001b[39mself\u001b[39m\u001b[39m.\u001b[39mdropout(embeddings)\n",
      "\u001b[0;31mRuntimeError\u001b[0m: The size of tensor a (605) must match the size of tensor b (512) at non-singleton dimension 1"
     ]
    }
   ],
   "source": [
    "# import matplotlib.pyplot as plt\n",
    "\n",
    "# def performance_seq_length(name, model):\n",
    "#     X = []\n",
    "#     time_measurements = []\n",
    "\n",
    "#     for i in range(6):\n",
    "#         context = (100*i+1)*\"World \"\n",
    "#         question = \"Hello\"\n",
    "\n",
    "#         inputs = tokenizer(question, context, return_tensors=\"np\")\n",
    "#         inputs = {key: np.array(inputs[key], dtype=np.int64) for key in inputs}\n",
    "#         average_time = run_n_times(run_onnx, model, inputs)\n",
    "\n",
    "#         seq_length = 100*i+5\n",
    "#         print(\"Input Length {}: {:.3f} ms\".format(seq_length, average_time))\n",
    "#         X.append(seq_length)\n",
    "#         time_measurements.append(average_time)\n",
    "\n",
    "#     plt.scatter(X, time_measurements, label=name)\n",
    "\n",
    "# def base_performance(name, model):\n",
    "#     X = []\n",
    "#     time_measurements = []\n",
    "\n",
    "#     for i in range(6):\n",
    "#         context = (100*i+1)*\"World \"\n",
    "#         question = \"Hello\"\n",
    "\n",
    "#         inputs = tokenizer(question, context, return_tensors=\"pt\")\n",
    "#         average_time = run_n_times(run_torch, model, inputs)\n",
    "        \n",
    "#         seq_length = 100*i+5 \n",
    "#         print(\"Input Length {}: {:.3f} ms\".format(seq_length, average_time))\n",
    "#         X.append(seq_length)\n",
    "#         time_measurements.append(average_time)\n",
    "\n",
    "#     plt.scatter(X, time_measurements, label=name)\n",
    "\n",
    "\n",
    "# onnx_model = InferenceSession(\n",
    "#     \"onnx/dropbert/model.onnx\", providers=[\"CPUExecutionProvider\"]\n",
    "# )\n",
    "\n",
    "# onnx_model_quant = InferenceSession(\n",
    "#     \"onnx/dropbert/model_quant.onnx\", providers=[\"CPUExecutionProvider\"]\n",
    "# )\n",
    "\n",
    "# base_performance(\"DROP BERT Base\", model)\n",
    "# performance_seq_length(\"DROP BERT ONNX\", onnx_model)\n",
    "# performance_seq_length(\"DROP BERT ONNX Quantized\", onnx_model_quant)\n",
    "\n",
    "# plt.xlabel(\"Sequence Length (tokens)\")\n",
    "# plt.ylabel(\"Average Inference Time (ms)\")\n",
    "# plt.legend()\n",
    "# plt.show()"
   ]
  },
  {
   "cell_type": "markdown",
   "metadata": {},
   "source": [
    "### Multiple-Choice (CosmosQA BERT)"
   ]
  },
  {
   "cell_type": "code",
   "execution_count": null,
   "metadata": {},
   "outputs": [],
   "source": [
    "# tokenizer = AutoTokenizer.from_pretrained(\"bert-base-uncased\")\n",
    "# model = AutoModelWithHeads.from_pretrained(\"bert-base-uncased\")\n",
    "# adapter_name = model.load_adapter(\"AdapterHub/bert-base-uncased-pf-cosmos_qa\", source=\"hf\")\n",
    "# model.active_adapters = adapter_name\n",
    "\n",
    "# def mc_model_inference(question, context, choices):\n",
    "#     outputs = []\n",
    "\n",
    "#     raw_input = [[context, question + \" \" + choice] for choice in choices]\n",
    "#     inputs = tokenizer(raw_input, padding=True, truncation=True, return_tensors=\"pt\")\n",
    "\n",
    "#     with torch.no_grad():\n",
    "#         outputs = model(**inputs)\n",
    "\n",
    "#     answer_idx = torch.argmax(outputs.logits)\n",
    "#     return choices[answer_idx]\n",
    "\n",
    "# question = \"What animal has the most hair?\"\n",
    "# context = \"Fish are typically not hairy. Cats have 10g of hair. Tigers have 50g of hair. Horses have 100g of hair.\"\n",
    "# answer0 = \"Tiger\"\n",
    "# answer1= \"Cat\"\n",
    "# answer2= \"Horse\"\n",
    "# answer3= \"Fish\"\n",
    "# choices = [answer0, answer1, answer2, answer3]\n",
    "# answer = mc_model_inference(question, context, choices)\n",
    "# print(answer)"
   ]
  },
  {
   "cell_type": "code",
   "execution_count": null,
   "metadata": {},
   "outputs": [],
   "source": [
    "# config = AutoConfig.from_pretrained(\"bert-base-uncased\")\n",
    "# onnx_config = DropBertOnnxConfig(config, task=\"question-answering\")\n",
    "\n",
    "# onnx_path = Path(\"onnx/cosmosqabert/model.onnx\")\n",
    "\n",
    "# onnx_inputs, onnx_outputs = export(tokenizer, model, onnx_config, onnx_config.default_onnx_opset, onnx_path)\n",
    "\n",
    "# onnx_model = onnx.load(onnx_path)\n",
    "# onnx.checker.check_model(onnx_model)"
   ]
  },
  {
   "cell_type": "code",
   "execution_count": null,
   "metadata": {},
   "outputs": [],
   "source": [
    "# def onnx_inference(onnx_path, question, context, choices):\n",
    "#     onnx_model = InferenceSession(\n",
    "#         str(onnx_path), providers=[\"CPUExecutionProvider\"]\n",
    "#     )\n",
    "\n",
    "#     raw_input = [[context, question + \" \" + choice] for choice in choices]\n",
    "#     inputs = tokenizer(raw_input, padding=True, truncation=True, return_tensors=\"np\")\n",
    "\n",
    "#     outputs = onnx_model.run(input_feed=dict(inputs), output_names=None)\n",
    "\n",
    "#     answer_idx = np.argmax(np.abs(np.sum(outputs[0], axis=1)))\n",
    "#     return choices[answer_idx]\n",
    "\n",
    "# answer = onnx_inference(onnx_path, question, context, choices)\n",
    "# print(answer)"
   ]
  }
 ],
 "metadata": {
  "kernelspec": {
   "display_name": "Python 3.9.13 ('adapterhub_env': venv)",
   "language": "python",
   "name": "python3"
  },
  "language_info": {
   "codemirror_mode": {
    "name": "ipython",
    "version": 3
   },
   "file_extension": ".py",
   "mimetype": "text/x-python",
   "name": "python",
   "nbconvert_exporter": "python",
   "pygments_lexer": "ipython3",
   "version": "3.9.13"
  },
  "orig_nbformat": 4,
  "vscode": {
   "interpreter": {
    "hash": "8dff476688330005cfc33f1ee0f15c13ae533c265ccd041ab146cdb98ecc6219"
   }
  }
 },
 "nbformat": 4,
 "nbformat_minor": 2
}
