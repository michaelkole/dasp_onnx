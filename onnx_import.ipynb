{
 "cells": [
  {
   "cell_type": "code",
   "execution_count": 1,
   "metadata": {},
   "outputs": [
    {
     "name": "stderr",
     "output_type": "stream",
     "text": [
      "/home/daedalus/anaconda3/envs/adapter/lib/python3.9/site-packages/tqdm/auto.py:22: TqdmWarning: IProgress not found. Please update jupyter and ipywidgets. See https://ipywidgets.readthedocs.io/en/stable/user_install.html\n",
      "  from .autonotebook import tqdm as notebook_tqdm\n"
     ]
    }
   ],
   "source": [
    "import os\n",
    "from pathlib import Path\n",
    "\n",
    "from huggingface_hub import hf_hub_download\n",
    "\n",
    "from onnxruntime import InferenceSession\n",
    "from transformers import AutoModelWithHeads, AutoTokenizer\n",
    "\n",
    "import numpy as np"
   ]
  },
  {
   "cell_type": "code",
   "execution_count": 2,
   "metadata": {},
   "outputs": [],
   "source": [
    "def onnx_import(base_model, adapter_id, quantized=False):\n",
    "    adapter = f\"AdapterHub/{base_model}-pf-{adapter_id}\"\n",
    "\n",
    "    model_id = adapter.split(\"/\")[1]+\"-onnx\"\n",
    "    directory_path = Path(\"onnx/{}\".format(model_id))\n",
    "    directory_path.mkdir(parents=True, exist_ok=True)\n",
    "\n",
    "    if quantized:\n",
    "        model_path = hf_hub_download(repo_id=\"UKP-SQuARE/\"+model_id, filename=\"model_quant.onnx\")\n",
    "    else:\n",
    "        model_path = hf_hub_download(repo_id=\"UKP-SQuARE/\"+model_id, filename=\"model.onnx\")\n",
    "\n",
    "    return model_path"
   ]
  },
  {
   "cell_type": "code",
   "execution_count": 3,
   "metadata": {},
   "outputs": [],
   "source": [
    "def preprocessing(question, context, tokenizer):\n",
    "    inputs = tokenizer(question, context, padding=True, truncation=True, return_tensors=\"np\")\n",
    "    return {key: np.array(inputs[key], dtype=np.int64) for key in inputs}\n",
    "\n",
    "def postprocessing(outputs, inputs, tokenizer):\n",
    "    start_scores = outputs[0]\n",
    "    end_scores = outputs[1]\n",
    "    ans_start = np.argmax(start_scores)\n",
    "    ans_end = np.argmax(end_scores)+1\n",
    "    return tokenizer.decode(inputs['input_ids'][0, ans_start:ans_end])\n",
    "\n",
    "def onnx_inference(onnx_path, tokenizer, question, context):\n",
    "    onnx_model = get_onnx_model(onnx_path)\n",
    "\n",
    "    inputs = preprocessing(question, context, tokenizer)\n",
    "    outputs = onnx_model.run(input_feed=dict(inputs), output_names=None)\n",
    "    answer = postprocessing(outputs, inputs, tokenizer)\n",
    "    return answer\n",
    "\n",
    "def get_onnx_model(onnx_path):\n",
    "    return InferenceSession(\n",
    "        str(onnx_path), providers=[\"CPUExecutionProvider\"]\n",
    "    )"
   ]
  },
  {
   "cell_type": "code",
   "execution_count": 4,
   "metadata": {},
   "outputs": [
    {
     "name": "stdout",
     "output_type": "stream",
     "text": [
      "interoperability of frameworks and hardware optimization\n"
     ]
    }
   ],
   "source": [
    "base_model = 'bert-base-uncased'\n",
    "head = 'drop'\n",
    "\n",
    "model_path = onnx_import(base_model, head)\n",
    "\n",
    "context = 'ONNX is an open format built to represent machine learning models. The key benefits of using ONNX are interoperability of frameworks and HARDware optimization.'\n",
    "question = 'What are advantages of ONNX?'\n",
    "\n",
    "tokenizer = AutoTokenizer.from_pretrained(base_model)\n",
    "\n",
    "answer = onnx_inference(model_path, tokenizer, question, context)\n",
    "print(answer)"
   ]
  }
 ],
 "metadata": {
  "kernelspec": {
   "display_name": "Python 3.9.12 ('adapter')",
   "language": "python",
   "name": "python3"
  },
  "language_info": {
   "codemirror_mode": {
    "name": "ipython",
    "version": 3
   },
   "file_extension": ".py",
   "mimetype": "text/x-python",
   "name": "python",
   "nbconvert_exporter": "python",
   "pygments_lexer": "ipython3",
   "version": "3.9.12"
  },
  "orig_nbformat": 4,
  "vscode": {
   "interpreter": {
    "hash": "6a7f5a2c07603db35bc4e52cfd5b475adbf202ae824ea4c5e531d495460257f7"
   }
  }
 },
 "nbformat": 4,
 "nbformat_minor": 2
}
